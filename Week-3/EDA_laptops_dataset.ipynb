{
 "cells": [
  {
   "cell_type": "code",
   "execution_count": 2,
   "id": "f08800e3",
   "metadata": {},
   "outputs": [],
   "source": [
    "import pandas as pd"
   ]
  },
  {
   "cell_type": "code",
   "execution_count": 3,
   "id": "2e48bed5",
   "metadata": {},
   "outputs": [],
   "source": [
    "df=pd.read_csv('laptops_dataset.csv')"
   ]
  },
  {
   "cell_type": "code",
   "execution_count": 4,
   "id": "d9a28c77",
   "metadata": {},
   "outputs": [
    {
     "data": {
      "text/html": [
       "<div>\n",
       "<style scoped>\n",
       "    .dataframe tbody tr th:only-of-type {\n",
       "        vertical-align: middle;\n",
       "    }\n",
       "\n",
       "    .dataframe tbody tr th {\n",
       "        vertical-align: top;\n",
       "    }\n",
       "\n",
       "    .dataframe thead th {\n",
       "        text-align: right;\n",
       "    }\n",
       "</style>\n",
       "<table border=\"1\" class=\"dataframe\">\n",
       "  <thead>\n",
       "    <tr style=\"text-align: right;\">\n",
       "      <th></th>\n",
       "      <th>Name</th>\n",
       "      <th>Price</th>\n",
       "      <th>Screensize</th>\n",
       "      <th>Memory</th>\n",
       "    </tr>\n",
       "  </thead>\n",
       "  <tbody>\n",
       "    <tr>\n",
       "      <th>0</th>\n",
       "      <td>Acer Aspire 7 A715-41G-R6S8 (NH.Q8DSI.001)</td>\n",
       "      <td>54,990</td>\n",
       "      <td>15.6 Inch</td>\n",
       "      <td>8 GB</td>\n",
       "    </tr>\n",
       "    <tr>\n",
       "      <th>1</th>\n",
       "      <td>Acer Aspire Switch One SW110-1CT (UT.709SI.001)</td>\n",
       "      <td>13,500</td>\n",
       "      <td>10.1 Inch</td>\n",
       "      <td>2 GB</td>\n",
       "    </tr>\n",
       "    <tr>\n",
       "      <th>2</th>\n",
       "      <td>Acer Aspire 3 A315-53 (NX.H38SI.010)</td>\n",
       "      <td>23,990</td>\n",
       "      <td>15.6 Inch</td>\n",
       "      <td>4 GB</td>\n",
       "    </tr>\n",
       "    <tr>\n",
       "      <th>3</th>\n",
       "      <td>Acer Aspire 7 A715-42G (NH.QAYSI.001)</td>\n",
       "      <td>61,369</td>\n",
       "      <td>15.6 Inch</td>\n",
       "      <td>8 GB</td>\n",
       "    </tr>\n",
       "    <tr>\n",
       "      <th>4</th>\n",
       "      <td>Acer Aspire 7 A715-75G (NH.Q85SI.003)</td>\n",
       "      <td>57,990</td>\n",
       "      <td>15.6 Inch</td>\n",
       "      <td>8 GB</td>\n",
       "    </tr>\n",
       "    <tr>\n",
       "      <th>...</th>\n",
       "      <td>...</td>\n",
       "      <td>...</td>\n",
       "      <td>...</td>\n",
       "      <td>...</td>\n",
       "    </tr>\n",
       "    <tr>\n",
       "      <th>139</th>\n",
       "      <td>Dell Inspiron 15 3583 (C563115WIN9)</td>\n",
       "      <td>52,200</td>\n",
       "      <td>15.6 Inch</td>\n",
       "      <td>8 GB</td>\n",
       "    </tr>\n",
       "    <tr>\n",
       "      <th>140</th>\n",
       "      <td>Dell Vostro 14 3400 (D552183WIN9DE)</td>\n",
       "      <td>62,290</td>\n",
       "      <td>14 Inch</td>\n",
       "      <td>8 GB</td>\n",
       "    </tr>\n",
       "    <tr>\n",
       "      <th>141</th>\n",
       "      <td>Dell Inspiron 15 3511 (D560593WIN9SE)</td>\n",
       "      <td>41,990</td>\n",
       "      <td>15.6 Inch</td>\n",
       "      <td>8 GB</td>\n",
       "    </tr>\n",
       "    <tr>\n",
       "      <th>142</th>\n",
       "      <td>Dell Inspiron 15 3501 (D560385WIN9S)</td>\n",
       "      <td>67,349</td>\n",
       "      <td>15.6 Inch</td>\n",
       "      <td>8 GB</td>\n",
       "    </tr>\n",
       "    <tr>\n",
       "      <th>143</th>\n",
       "      <td>Dell Inspiron 15 3593 (D560267WIN9S)</td>\n",
       "      <td>41,990</td>\n",
       "      <td>15.6 Inch</td>\n",
       "      <td>4 GB</td>\n",
       "    </tr>\n",
       "  </tbody>\n",
       "</table>\n",
       "<p>144 rows × 4 columns</p>\n",
       "</div>"
      ],
      "text/plain": [
       "                                                Name   Price Screensize Memory\n",
       "0         Acer Aspire 7 A715-41G-R6S8 (NH.Q8DSI.001)  54,990  15.6 Inch   8 GB\n",
       "1    Acer Aspire Switch One SW110-1CT (UT.709SI.001)  13,500  10.1 Inch   2 GB\n",
       "2               Acer Aspire 3 A315-53 (NX.H38SI.010)  23,990  15.6 Inch   4 GB\n",
       "3              Acer Aspire 7 A715-42G (NH.QAYSI.001)  61,369  15.6 Inch   8 GB\n",
       "4              Acer Aspire 7 A715-75G (NH.Q85SI.003)  57,990  15.6 Inch   8 GB\n",
       "..                                               ...     ...        ...    ...\n",
       "139              Dell Inspiron 15 3583 (C563115WIN9)  52,200  15.6 Inch   8 GB\n",
       "140              Dell Vostro 14 3400 (D552183WIN9DE)  62,290    14 Inch   8 GB\n",
       "141            Dell Inspiron 15 3511 (D560593WIN9SE)  41,990  15.6 Inch   8 GB\n",
       "142             Dell Inspiron 15 3501 (D560385WIN9S)  67,349  15.6 Inch   8 GB\n",
       "143             Dell Inspiron 15 3593 (D560267WIN9S)  41,990  15.6 Inch   4 GB\n",
       "\n",
       "[144 rows x 4 columns]"
      ]
     },
     "execution_count": 4,
     "metadata": {},
     "output_type": "execute_result"
    }
   ],
   "source": [
    "df"
   ]
  },
  {
   "cell_type": "code",
   "execution_count": 5,
   "id": "ddccf2fd",
   "metadata": {},
   "outputs": [],
   "source": [
    "#modifying dataset to numerical values\n",
    "df['Screensize (Inch)']=df['Screensize'].str.slice(0,-5)"
   ]
  },
  {
   "cell_type": "code",
   "execution_count": 6,
   "id": "886670d7",
   "metadata": {},
   "outputs": [
    {
     "data": {
      "text/html": [
       "<div>\n",
       "<style scoped>\n",
       "    .dataframe tbody tr th:only-of-type {\n",
       "        vertical-align: middle;\n",
       "    }\n",
       "\n",
       "    .dataframe tbody tr th {\n",
       "        vertical-align: top;\n",
       "    }\n",
       "\n",
       "    .dataframe thead th {\n",
       "        text-align: right;\n",
       "    }\n",
       "</style>\n",
       "<table border=\"1\" class=\"dataframe\">\n",
       "  <thead>\n",
       "    <tr style=\"text-align: right;\">\n",
       "      <th></th>\n",
       "      <th>Name</th>\n",
       "      <th>Price</th>\n",
       "      <th>Screensize</th>\n",
       "      <th>Memory</th>\n",
       "      <th>Screensize (Inch)</th>\n",
       "    </tr>\n",
       "  </thead>\n",
       "  <tbody>\n",
       "    <tr>\n",
       "      <th>0</th>\n",
       "      <td>Acer Aspire 7 A715-41G-R6S8 (NH.Q8DSI.001)</td>\n",
       "      <td>54,990</td>\n",
       "      <td>15.6 Inch</td>\n",
       "      <td>8 GB</td>\n",
       "      <td>15.6</td>\n",
       "    </tr>\n",
       "    <tr>\n",
       "      <th>1</th>\n",
       "      <td>Acer Aspire Switch One SW110-1CT (UT.709SI.001)</td>\n",
       "      <td>13,500</td>\n",
       "      <td>10.1 Inch</td>\n",
       "      <td>2 GB</td>\n",
       "      <td>10.1</td>\n",
       "    </tr>\n",
       "    <tr>\n",
       "      <th>2</th>\n",
       "      <td>Acer Aspire 3 A315-53 (NX.H38SI.010)</td>\n",
       "      <td>23,990</td>\n",
       "      <td>15.6 Inch</td>\n",
       "      <td>4 GB</td>\n",
       "      <td>15.6</td>\n",
       "    </tr>\n",
       "    <tr>\n",
       "      <th>3</th>\n",
       "      <td>Acer Aspire 7 A715-42G (NH.QAYSI.001)</td>\n",
       "      <td>61,369</td>\n",
       "      <td>15.6 Inch</td>\n",
       "      <td>8 GB</td>\n",
       "      <td>15.6</td>\n",
       "    </tr>\n",
       "    <tr>\n",
       "      <th>4</th>\n",
       "      <td>Acer Aspire 7 A715-75G (NH.Q85SI.003)</td>\n",
       "      <td>57,990</td>\n",
       "      <td>15.6 Inch</td>\n",
       "      <td>8 GB</td>\n",
       "      <td>15.6</td>\n",
       "    </tr>\n",
       "    <tr>\n",
       "      <th>...</th>\n",
       "      <td>...</td>\n",
       "      <td>...</td>\n",
       "      <td>...</td>\n",
       "      <td>...</td>\n",
       "      <td>...</td>\n",
       "    </tr>\n",
       "    <tr>\n",
       "      <th>139</th>\n",
       "      <td>Dell Inspiron 15 3583 (C563115WIN9)</td>\n",
       "      <td>52,200</td>\n",
       "      <td>15.6 Inch</td>\n",
       "      <td>8 GB</td>\n",
       "      <td>15.6</td>\n",
       "    </tr>\n",
       "    <tr>\n",
       "      <th>140</th>\n",
       "      <td>Dell Vostro 14 3400 (D552183WIN9DE)</td>\n",
       "      <td>62,290</td>\n",
       "      <td>14 Inch</td>\n",
       "      <td>8 GB</td>\n",
       "      <td>14</td>\n",
       "    </tr>\n",
       "    <tr>\n",
       "      <th>141</th>\n",
       "      <td>Dell Inspiron 15 3511 (D560593WIN9SE)</td>\n",
       "      <td>41,990</td>\n",
       "      <td>15.6 Inch</td>\n",
       "      <td>8 GB</td>\n",
       "      <td>15.6</td>\n",
       "    </tr>\n",
       "    <tr>\n",
       "      <th>142</th>\n",
       "      <td>Dell Inspiron 15 3501 (D560385WIN9S)</td>\n",
       "      <td>67,349</td>\n",
       "      <td>15.6 Inch</td>\n",
       "      <td>8 GB</td>\n",
       "      <td>15.6</td>\n",
       "    </tr>\n",
       "    <tr>\n",
       "      <th>143</th>\n",
       "      <td>Dell Inspiron 15 3593 (D560267WIN9S)</td>\n",
       "      <td>41,990</td>\n",
       "      <td>15.6 Inch</td>\n",
       "      <td>4 GB</td>\n",
       "      <td>15.6</td>\n",
       "    </tr>\n",
       "  </tbody>\n",
       "</table>\n",
       "<p>144 rows × 5 columns</p>\n",
       "</div>"
      ],
      "text/plain": [
       "                                                Name   Price Screensize  \\\n",
       "0         Acer Aspire 7 A715-41G-R6S8 (NH.Q8DSI.001)  54,990  15.6 Inch   \n",
       "1    Acer Aspire Switch One SW110-1CT (UT.709SI.001)  13,500  10.1 Inch   \n",
       "2               Acer Aspire 3 A315-53 (NX.H38SI.010)  23,990  15.6 Inch   \n",
       "3              Acer Aspire 7 A715-42G (NH.QAYSI.001)  61,369  15.6 Inch   \n",
       "4              Acer Aspire 7 A715-75G (NH.Q85SI.003)  57,990  15.6 Inch   \n",
       "..                                               ...     ...        ...   \n",
       "139              Dell Inspiron 15 3583 (C563115WIN9)  52,200  15.6 Inch   \n",
       "140              Dell Vostro 14 3400 (D552183WIN9DE)  62,290    14 Inch   \n",
       "141            Dell Inspiron 15 3511 (D560593WIN9SE)  41,990  15.6 Inch   \n",
       "142             Dell Inspiron 15 3501 (D560385WIN9S)  67,349  15.6 Inch   \n",
       "143             Dell Inspiron 15 3593 (D560267WIN9S)  41,990  15.6 Inch   \n",
       "\n",
       "    Memory Screensize (Inch)  \n",
       "0     8 GB              15.6  \n",
       "1     2 GB              10.1  \n",
       "2     4 GB              15.6  \n",
       "3     8 GB              15.6  \n",
       "4     8 GB              15.6  \n",
       "..     ...               ...  \n",
       "139   8 GB              15.6  \n",
       "140   8 GB                14  \n",
       "141   8 GB              15.6  \n",
       "142   8 GB              15.6  \n",
       "143   4 GB              15.6  \n",
       "\n",
       "[144 rows x 5 columns]"
      ]
     },
     "execution_count": 6,
     "metadata": {},
     "output_type": "execute_result"
    }
   ],
   "source": [
    "df"
   ]
  },
  {
   "cell_type": "code",
   "execution_count": 7,
   "id": "b6c26cf5",
   "metadata": {},
   "outputs": [],
   "source": [
    "df['Memory (GB)']=df['Memory'].str.slice(0,-3)"
   ]
  },
  {
   "cell_type": "code",
   "execution_count": 8,
   "id": "faaf647a",
   "metadata": {},
   "outputs": [
    {
     "data": {
      "text/html": [
       "<div>\n",
       "<style scoped>\n",
       "    .dataframe tbody tr th:only-of-type {\n",
       "        vertical-align: middle;\n",
       "    }\n",
       "\n",
       "    .dataframe tbody tr th {\n",
       "        vertical-align: top;\n",
       "    }\n",
       "\n",
       "    .dataframe thead th {\n",
       "        text-align: right;\n",
       "    }\n",
       "</style>\n",
       "<table border=\"1\" class=\"dataframe\">\n",
       "  <thead>\n",
       "    <tr style=\"text-align: right;\">\n",
       "      <th></th>\n",
       "      <th>Name</th>\n",
       "      <th>Price</th>\n",
       "      <th>Screensize</th>\n",
       "      <th>Memory</th>\n",
       "      <th>Screensize (Inch)</th>\n",
       "      <th>Memory (GB)</th>\n",
       "    </tr>\n",
       "  </thead>\n",
       "  <tbody>\n",
       "    <tr>\n",
       "      <th>0</th>\n",
       "      <td>Acer Aspire 7 A715-41G-R6S8 (NH.Q8DSI.001)</td>\n",
       "      <td>54,990</td>\n",
       "      <td>15.6 Inch</td>\n",
       "      <td>8 GB</td>\n",
       "      <td>15.6</td>\n",
       "      <td>8</td>\n",
       "    </tr>\n",
       "    <tr>\n",
       "      <th>1</th>\n",
       "      <td>Acer Aspire Switch One SW110-1CT (UT.709SI.001)</td>\n",
       "      <td>13,500</td>\n",
       "      <td>10.1 Inch</td>\n",
       "      <td>2 GB</td>\n",
       "      <td>10.1</td>\n",
       "      <td>2</td>\n",
       "    </tr>\n",
       "    <tr>\n",
       "      <th>2</th>\n",
       "      <td>Acer Aspire 3 A315-53 (NX.H38SI.010)</td>\n",
       "      <td>23,990</td>\n",
       "      <td>15.6 Inch</td>\n",
       "      <td>4 GB</td>\n",
       "      <td>15.6</td>\n",
       "      <td>4</td>\n",
       "    </tr>\n",
       "    <tr>\n",
       "      <th>3</th>\n",
       "      <td>Acer Aspire 7 A715-42G (NH.QAYSI.001)</td>\n",
       "      <td>61,369</td>\n",
       "      <td>15.6 Inch</td>\n",
       "      <td>8 GB</td>\n",
       "      <td>15.6</td>\n",
       "      <td>8</td>\n",
       "    </tr>\n",
       "    <tr>\n",
       "      <th>4</th>\n",
       "      <td>Acer Aspire 7 A715-75G (NH.Q85SI.003)</td>\n",
       "      <td>57,990</td>\n",
       "      <td>15.6 Inch</td>\n",
       "      <td>8 GB</td>\n",
       "      <td>15.6</td>\n",
       "      <td>8</td>\n",
       "    </tr>\n",
       "    <tr>\n",
       "      <th>...</th>\n",
       "      <td>...</td>\n",
       "      <td>...</td>\n",
       "      <td>...</td>\n",
       "      <td>...</td>\n",
       "      <td>...</td>\n",
       "      <td>...</td>\n",
       "    </tr>\n",
       "    <tr>\n",
       "      <th>139</th>\n",
       "      <td>Dell Inspiron 15 3583 (C563115WIN9)</td>\n",
       "      <td>52,200</td>\n",
       "      <td>15.6 Inch</td>\n",
       "      <td>8 GB</td>\n",
       "      <td>15.6</td>\n",
       "      <td>8</td>\n",
       "    </tr>\n",
       "    <tr>\n",
       "      <th>140</th>\n",
       "      <td>Dell Vostro 14 3400 (D552183WIN9DE)</td>\n",
       "      <td>62,290</td>\n",
       "      <td>14 Inch</td>\n",
       "      <td>8 GB</td>\n",
       "      <td>14</td>\n",
       "      <td>8</td>\n",
       "    </tr>\n",
       "    <tr>\n",
       "      <th>141</th>\n",
       "      <td>Dell Inspiron 15 3511 (D560593WIN9SE)</td>\n",
       "      <td>41,990</td>\n",
       "      <td>15.6 Inch</td>\n",
       "      <td>8 GB</td>\n",
       "      <td>15.6</td>\n",
       "      <td>8</td>\n",
       "    </tr>\n",
       "    <tr>\n",
       "      <th>142</th>\n",
       "      <td>Dell Inspiron 15 3501 (D560385WIN9S)</td>\n",
       "      <td>67,349</td>\n",
       "      <td>15.6 Inch</td>\n",
       "      <td>8 GB</td>\n",
       "      <td>15.6</td>\n",
       "      <td>8</td>\n",
       "    </tr>\n",
       "    <tr>\n",
       "      <th>143</th>\n",
       "      <td>Dell Inspiron 15 3593 (D560267WIN9S)</td>\n",
       "      <td>41,990</td>\n",
       "      <td>15.6 Inch</td>\n",
       "      <td>4 GB</td>\n",
       "      <td>15.6</td>\n",
       "      <td>4</td>\n",
       "    </tr>\n",
       "  </tbody>\n",
       "</table>\n",
       "<p>144 rows × 6 columns</p>\n",
       "</div>"
      ],
      "text/plain": [
       "                                                Name   Price Screensize  \\\n",
       "0         Acer Aspire 7 A715-41G-R6S8 (NH.Q8DSI.001)  54,990  15.6 Inch   \n",
       "1    Acer Aspire Switch One SW110-1CT (UT.709SI.001)  13,500  10.1 Inch   \n",
       "2               Acer Aspire 3 A315-53 (NX.H38SI.010)  23,990  15.6 Inch   \n",
       "3              Acer Aspire 7 A715-42G (NH.QAYSI.001)  61,369  15.6 Inch   \n",
       "4              Acer Aspire 7 A715-75G (NH.Q85SI.003)  57,990  15.6 Inch   \n",
       "..                                               ...     ...        ...   \n",
       "139              Dell Inspiron 15 3583 (C563115WIN9)  52,200  15.6 Inch   \n",
       "140              Dell Vostro 14 3400 (D552183WIN9DE)  62,290    14 Inch   \n",
       "141            Dell Inspiron 15 3511 (D560593WIN9SE)  41,990  15.6 Inch   \n",
       "142             Dell Inspiron 15 3501 (D560385WIN9S)  67,349  15.6 Inch   \n",
       "143             Dell Inspiron 15 3593 (D560267WIN9S)  41,990  15.6 Inch   \n",
       "\n",
       "    Memory Screensize (Inch) Memory (GB)  \n",
       "0     8 GB              15.6           8  \n",
       "1     2 GB              10.1           2  \n",
       "2     4 GB              15.6           4  \n",
       "3     8 GB              15.6           8  \n",
       "4     8 GB              15.6           8  \n",
       "..     ...               ...         ...  \n",
       "139   8 GB              15.6           8  \n",
       "140   8 GB                14           8  \n",
       "141   8 GB              15.6           8  \n",
       "142   8 GB              15.6           8  \n",
       "143   4 GB              15.6           4  \n",
       "\n",
       "[144 rows x 6 columns]"
      ]
     },
     "execution_count": 8,
     "metadata": {},
     "output_type": "execute_result"
    }
   ],
   "source": [
    "df"
   ]
  },
  {
   "cell_type": "code",
   "execution_count": 9,
   "id": "89bfadf2",
   "metadata": {},
   "outputs": [
    {
     "data": {
      "text/html": [
       "<div>\n",
       "<style scoped>\n",
       "    .dataframe tbody tr th:only-of-type {\n",
       "        vertical-align: middle;\n",
       "    }\n",
       "\n",
       "    .dataframe tbody tr th {\n",
       "        vertical-align: top;\n",
       "    }\n",
       "\n",
       "    .dataframe thead th {\n",
       "        text-align: right;\n",
       "    }\n",
       "</style>\n",
       "<table border=\"1\" class=\"dataframe\">\n",
       "  <thead>\n",
       "    <tr style=\"text-align: right;\">\n",
       "      <th></th>\n",
       "      <th>Name</th>\n",
       "      <th>Price</th>\n",
       "      <th>Screensize (Inch)</th>\n",
       "      <th>Memory (GB)</th>\n",
       "    </tr>\n",
       "  </thead>\n",
       "  <tbody>\n",
       "    <tr>\n",
       "      <th>0</th>\n",
       "      <td>Acer Aspire 7 A715-41G-R6S8 (NH.Q8DSI.001)</td>\n",
       "      <td>54,990</td>\n",
       "      <td>15.6</td>\n",
       "      <td>8</td>\n",
       "    </tr>\n",
       "    <tr>\n",
       "      <th>1</th>\n",
       "      <td>Acer Aspire Switch One SW110-1CT (UT.709SI.001)</td>\n",
       "      <td>13,500</td>\n",
       "      <td>10.1</td>\n",
       "      <td>2</td>\n",
       "    </tr>\n",
       "    <tr>\n",
       "      <th>2</th>\n",
       "      <td>Acer Aspire 3 A315-53 (NX.H38SI.010)</td>\n",
       "      <td>23,990</td>\n",
       "      <td>15.6</td>\n",
       "      <td>4</td>\n",
       "    </tr>\n",
       "    <tr>\n",
       "      <th>3</th>\n",
       "      <td>Acer Aspire 7 A715-42G (NH.QAYSI.001)</td>\n",
       "      <td>61,369</td>\n",
       "      <td>15.6</td>\n",
       "      <td>8</td>\n",
       "    </tr>\n",
       "    <tr>\n",
       "      <th>4</th>\n",
       "      <td>Acer Aspire 7 A715-75G (NH.Q85SI.003)</td>\n",
       "      <td>57,990</td>\n",
       "      <td>15.6</td>\n",
       "      <td>8</td>\n",
       "    </tr>\n",
       "    <tr>\n",
       "      <th>...</th>\n",
       "      <td>...</td>\n",
       "      <td>...</td>\n",
       "      <td>...</td>\n",
       "      <td>...</td>\n",
       "    </tr>\n",
       "    <tr>\n",
       "      <th>139</th>\n",
       "      <td>Dell Inspiron 15 3583 (C563115WIN9)</td>\n",
       "      <td>52,200</td>\n",
       "      <td>15.6</td>\n",
       "      <td>8</td>\n",
       "    </tr>\n",
       "    <tr>\n",
       "      <th>140</th>\n",
       "      <td>Dell Vostro 14 3400 (D552183WIN9DE)</td>\n",
       "      <td>62,290</td>\n",
       "      <td>14</td>\n",
       "      <td>8</td>\n",
       "    </tr>\n",
       "    <tr>\n",
       "      <th>141</th>\n",
       "      <td>Dell Inspiron 15 3511 (D560593WIN9SE)</td>\n",
       "      <td>41,990</td>\n",
       "      <td>15.6</td>\n",
       "      <td>8</td>\n",
       "    </tr>\n",
       "    <tr>\n",
       "      <th>142</th>\n",
       "      <td>Dell Inspiron 15 3501 (D560385WIN9S)</td>\n",
       "      <td>67,349</td>\n",
       "      <td>15.6</td>\n",
       "      <td>8</td>\n",
       "    </tr>\n",
       "    <tr>\n",
       "      <th>143</th>\n",
       "      <td>Dell Inspiron 15 3593 (D560267WIN9S)</td>\n",
       "      <td>41,990</td>\n",
       "      <td>15.6</td>\n",
       "      <td>4</td>\n",
       "    </tr>\n",
       "  </tbody>\n",
       "</table>\n",
       "<p>144 rows × 4 columns</p>\n",
       "</div>"
      ],
      "text/plain": [
       "                                                Name   Price  \\\n",
       "0         Acer Aspire 7 A715-41G-R6S8 (NH.Q8DSI.001)  54,990   \n",
       "1    Acer Aspire Switch One SW110-1CT (UT.709SI.001)  13,500   \n",
       "2               Acer Aspire 3 A315-53 (NX.H38SI.010)  23,990   \n",
       "3              Acer Aspire 7 A715-42G (NH.QAYSI.001)  61,369   \n",
       "4              Acer Aspire 7 A715-75G (NH.Q85SI.003)  57,990   \n",
       "..                                               ...     ...   \n",
       "139              Dell Inspiron 15 3583 (C563115WIN9)  52,200   \n",
       "140              Dell Vostro 14 3400 (D552183WIN9DE)  62,290   \n",
       "141            Dell Inspiron 15 3511 (D560593WIN9SE)  41,990   \n",
       "142             Dell Inspiron 15 3501 (D560385WIN9S)  67,349   \n",
       "143             Dell Inspiron 15 3593 (D560267WIN9S)  41,990   \n",
       "\n",
       "    Screensize (Inch) Memory (GB)  \n",
       "0                15.6           8  \n",
       "1                10.1           2  \n",
       "2                15.6           4  \n",
       "3                15.6           8  \n",
       "4                15.6           8  \n",
       "..                ...         ...  \n",
       "139              15.6           8  \n",
       "140                14           8  \n",
       "141              15.6           8  \n",
       "142              15.6           8  \n",
       "143              15.6           4  \n",
       "\n",
       "[144 rows x 4 columns]"
      ]
     },
     "execution_count": 9,
     "metadata": {},
     "output_type": "execute_result"
    }
   ],
   "source": [
    "df=df.drop('Screensize',axis=1)\n",
    "df=df.drop('Memory',axis=1)\n",
    "df"
   ]
  },
  {
   "cell_type": "code",
   "execution_count": 10,
   "id": "6f4f6093",
   "metadata": {},
   "outputs": [
    {
     "name": "stdout",
     "output_type": "stream",
     "text": [
      "<class 'pandas.core.frame.DataFrame'>\n",
      "RangeIndex: 144 entries, 0 to 143\n",
      "Data columns (total 4 columns):\n",
      " #   Column             Non-Null Count  Dtype \n",
      "---  ------             --------------  ----- \n",
      " 0   Name               144 non-null    object\n",
      " 1   Price              144 non-null    object\n",
      " 2   Screensize (Inch)  144 non-null    object\n",
      " 3   Memory (GB)        144 non-null    object\n",
      "dtypes: object(4)\n",
      "memory usage: 4.6+ KB\n"
     ]
    }
   ],
   "source": [
    "#EDA\n",
    "df.info()"
   ]
  },
  {
   "cell_type": "code",
   "execution_count": 11,
   "id": "9d7d4a88",
   "metadata": {},
   "outputs": [
    {
     "data": {
      "text/html": [
       "<div>\n",
       "<style scoped>\n",
       "    .dataframe tbody tr th:only-of-type {\n",
       "        vertical-align: middle;\n",
       "    }\n",
       "\n",
       "    .dataframe tbody tr th {\n",
       "        vertical-align: top;\n",
       "    }\n",
       "\n",
       "    .dataframe thead th {\n",
       "        text-align: right;\n",
       "    }\n",
       "</style>\n",
       "<table border=\"1\" class=\"dataframe\">\n",
       "  <thead>\n",
       "    <tr style=\"text-align: right;\">\n",
       "      <th></th>\n",
       "      <th>Name</th>\n",
       "      <th>Price</th>\n",
       "      <th>Screensize (Inch)</th>\n",
       "      <th>Memory (GB)</th>\n",
       "    </tr>\n",
       "  </thead>\n",
       "  <tbody>\n",
       "    <tr>\n",
       "      <th>count</th>\n",
       "      <td>144</td>\n",
       "      <td>144</td>\n",
       "      <td>144</td>\n",
       "      <td>144</td>\n",
       "    </tr>\n",
       "    <tr>\n",
       "      <th>unique</th>\n",
       "      <td>144</td>\n",
       "      <td>127</td>\n",
       "      <td>6</td>\n",
       "      <td>4</td>\n",
       "    </tr>\n",
       "    <tr>\n",
       "      <th>top</th>\n",
       "      <td>Acer Aspire 7 A715-41G-R6S8 (NH.Q8DSI.001)</td>\n",
       "      <td>41,990</td>\n",
       "      <td>15.6</td>\n",
       "      <td>8</td>\n",
       "    </tr>\n",
       "    <tr>\n",
       "      <th>freq</th>\n",
       "      <td>1</td>\n",
       "      <td>5</td>\n",
       "      <td>94</td>\n",
       "      <td>84</td>\n",
       "    </tr>\n",
       "  </tbody>\n",
       "</table>\n",
       "</div>"
      ],
      "text/plain": [
       "                                              Name   Price Screensize (Inch)  \\\n",
       "count                                          144     144               144   \n",
       "unique                                         144     127                 6   \n",
       "top     Acer Aspire 7 A715-41G-R6S8 (NH.Q8DSI.001)  41,990              15.6   \n",
       "freq                                             1       5                94   \n",
       "\n",
       "       Memory (GB)  \n",
       "count          144  \n",
       "unique           4  \n",
       "top              8  \n",
       "freq            84  "
      ]
     },
     "execution_count": 11,
     "metadata": {},
     "output_type": "execute_result"
    }
   ],
   "source": [
    "df.describe()"
   ]
  },
  {
   "cell_type": "code",
   "execution_count": 12,
   "id": "2bdff7b2",
   "metadata": {},
   "outputs": [
    {
     "data": {
      "text/plain": [
       "0"
      ]
     },
     "execution_count": 12,
     "metadata": {},
     "output_type": "execute_result"
    }
   ],
   "source": [
    "numerics = ['int16', 'int32', 'int64', 'float16', 'float32', 'float64']\n",
    "\n",
    "numeric_df = df.select_dtypes(include=numerics)\n",
    "len(numeric_df.columns)"
   ]
  },
  {
   "cell_type": "code",
   "execution_count": 13,
   "id": "46b1d11e",
   "metadata": {},
   "outputs": [
    {
     "data": {
      "text/plain": [
       "Name                 0.0\n",
       "Price                0.0\n",
       "Screensize (Inch)    0.0\n",
       "Memory (GB)          0.0\n",
       "dtype: float64"
      ]
     },
     "execution_count": 13,
     "metadata": {},
     "output_type": "execute_result"
    }
   ],
   "source": [
    "missing_percentages = df.isna().sum().sort_values(ascending=False) / len(df)\n",
    "missing_percentages"
   ]
  },
  {
   "cell_type": "code",
   "execution_count": 14,
   "id": "4d5cbae8",
   "metadata": {},
   "outputs": [
    {
     "data": {
      "text/plain": [
       "pandas.core.series.Series"
      ]
     },
     "execution_count": 14,
     "metadata": {},
     "output_type": "execute_result"
    }
   ],
   "source": [
    "type(missing_percentages)"
   ]
  },
  {
   "cell_type": "code",
   "execution_count": 15,
   "id": "e080bbf7",
   "metadata": {},
   "outputs": [
    {
     "data": {
      "text/plain": [
       "Index(['Name', 'Price', 'Screensize (Inch)', 'Memory (GB)'], dtype='object')"
      ]
     },
     "execution_count": 15,
     "metadata": {},
     "output_type": "execute_result"
    }
   ],
   "source": [
    "df.columns"
   ]
  },
  {
   "cell_type": "code",
   "execution_count": 16,
   "id": "5fb9f825",
   "metadata": {},
   "outputs": [
    {
     "data": {
      "text/plain": [
       "0           Acer Aspire 7 A715-41G-R6S8 (NH.Q8DSI.001)\n",
       "1      Acer Aspire Switch One SW110-1CT (UT.709SI.001)\n",
       "2                 Acer Aspire 3 A315-53 (NX.H38SI.010)\n",
       "3                Acer Aspire 7 A715-42G (NH.QAYSI.001)\n",
       "4                Acer Aspire 7 A715-75G (NH.Q85SI.003)\n",
       "                            ...                       \n",
       "139                Dell Inspiron 15 3583 (C563115WIN9)\n",
       "140                Dell Vostro 14 3400 (D552183WIN9DE)\n",
       "141              Dell Inspiron 15 3511 (D560593WIN9SE)\n",
       "142               Dell Inspiron 15 3501 (D560385WIN9S)\n",
       "143               Dell Inspiron 15 3593 (D560267WIN9S)\n",
       "Name: Name, Length: 144, dtype: object"
      ]
     },
     "execution_count": 16,
     "metadata": {},
     "output_type": "execute_result"
    }
   ],
   "source": [
    "df.Name"
   ]
  },
  {
   "cell_type": "code",
   "execution_count": 17,
   "id": "6c8f4e73",
   "metadata": {},
   "outputs": [
    {
     "data": {
      "text/plain": [
       "144"
      ]
     },
     "execution_count": 17,
     "metadata": {},
     "output_type": "execute_result"
    }
   ],
   "source": [
    "names = df.Name.unique()\n",
    "len(names)"
   ]
  },
  {
   "cell_type": "code",
   "execution_count": 18,
   "id": "54cb466d",
   "metadata": {},
   "outputs": [
    {
     "data": {
      "text/plain": [
       "0      54,990\n",
       "1      13,500\n",
       "2      23,990\n",
       "3      61,369\n",
       "4      57,990\n",
       "        ...  \n",
       "139    52,200\n",
       "140    62,290\n",
       "141    41,990\n",
       "142    67,349\n",
       "143    41,990\n",
       "Name: Price, Length: 144, dtype: object"
      ]
     },
     "execution_count": 18,
     "metadata": {},
     "output_type": "execute_result"
    }
   ],
   "source": [
    "df.Price"
   ]
  },
  {
   "cell_type": "code",
   "execution_count": 19,
   "id": "f3eabc04",
   "metadata": {},
   "outputs": [
    {
     "data": {
      "text/plain": [
       "41,990    5\n",
       "54,990    3\n",
       "30,990    2\n",
       "40,999    2\n",
       "39,990    2\n",
       "         ..\n",
       "20,990    1\n",
       "43,128    1\n",
       "85,990    1\n",
       "33,824    1\n",
       "67,349    1\n",
       "Name: Price, Length: 127, dtype: int64"
      ]
     },
     "execution_count": 19,
     "metadata": {},
     "output_type": "execute_result"
    }
   ],
   "source": [
    "laptop_by_price=df.Price.value_counts()\n",
    "laptop_by_price"
   ]
  },
  {
   "cell_type": "code",
   "execution_count": 20,
   "id": "141c61ec",
   "metadata": {},
   "outputs": [
    {
     "data": {
      "text/plain": [
       "41,990    5\n",
       "54,990    3\n",
       "30,990    2\n",
       "40,999    2\n",
       "39,990    2\n",
       "77,990    2\n",
       "48,990    2\n",
       "69,494    2\n",
       "55,990    2\n",
       "42,490    2\n",
       "23,990    2\n",
       "57,990    2\n",
       "69,900    2\n",
       "60,990    1\n",
       "48,500    1\n",
       "27,851    1\n",
       "27,884    1\n",
       "28,543    1\n",
       "24,815    1\n",
       "29,774    1\n",
       "56,135    1\n",
       "62,990    1\n",
       "49,999    1\n",
       "27,356    1\n",
       "56,990    1\n",
       "Name: Price, dtype: int64"
      ]
     },
     "execution_count": 20,
     "metadata": {},
     "output_type": "execute_result"
    }
   ],
   "source": [
    "laptop_by_price[:25]"
   ]
  },
  {
   "cell_type": "code",
   "execution_count": 21,
   "id": "71c4e062",
   "metadata": {},
   "outputs": [
    {
     "data": {
      "text/plain": [
       "pandas.core.series.Series"
      ]
     },
     "execution_count": 21,
     "metadata": {},
     "output_type": "execute_result"
    }
   ],
   "source": [
    "type(laptop_by_price)"
   ]
  },
  {
   "cell_type": "code",
   "execution_count": 22,
   "id": "10924043",
   "metadata": {},
   "outputs": [
    {
     "data": {
      "text/plain": [
       "<AxesSubplot:>"
      ]
     },
     "execution_count": 22,
     "metadata": {},
     "output_type": "execute_result"
    },
    {
     "data": {
      "image/png": "[encoded data removed]",
      "text/plain": [
       "<Figure size 432x288 with 1 Axes>"
      ]
     },
     "metadata": {
      "needs_background": "light"
     },
     "output_type": "display_data"
    }
   ],
   "source": [
    "import matplotlib as plt\n",
    "laptop_by_price[:25].plot(kind='barh')"
   ]
  },
  {
   "cell_type": "code",
   "execution_count": 23,
   "id": "9a1ce06a",
   "metadata": {},
   "outputs": [
    {
     "data": {
      "text/plain": [
       "<AxesSubplot:ylabel='Memory (GB)'>"
      ]
     },
     "execution_count": 23,
     "metadata": {},
     "output_type": "execute_result"
    },
    {
     "data": {
      "image/png": "[encoded data removed]",
      "text/plain": [
       "<Figure size 432x288 with 1 Axes>"
      ]
     },
     "metadata": {},
     "output_type": "display_data"
    }
   ],
   "source": [
    "df['Memory (GB)'].value_counts().plot(kind='pie')"
   ]
  },
  {
   "cell_type": "code",
   "execution_count": 25,
   "id": "46526a3d",
   "metadata": {},
   "outputs": [
    {
     "data": {
      "text/html": [
       "<div>\n",
       "<style scoped>\n",
       "    .dataframe tbody tr th:only-of-type {\n",
       "        vertical-align: middle;\n",
       "    }\n",
       "\n",
       "    .dataframe tbody tr th {\n",
       "        vertical-align: top;\n",
       "    }\n",
       "\n",
       "    .dataframe thead th {\n",
       "        text-align: right;\n",
       "    }\n",
       "</style>\n",
       "<table border=\"1\" class=\"dataframe\">\n",
       "  <thead>\n",
       "    <tr style=\"text-align: right;\">\n",
       "      <th></th>\n",
       "      <th>Name</th>\n",
       "      <th>Memory (GB)</th>\n",
       "    </tr>\n",
       "  </thead>\n",
       "  <tbody>\n",
       "    <tr>\n",
       "      <th>0</th>\n",
       "      <td>Acer Aspire 7 A715-41G-R6S8 (NH.Q8DSI.001)</td>\n",
       "      <td>8</td>\n",
       "    </tr>\n",
       "    <tr>\n",
       "      <th>3</th>\n",
       "      <td>Acer Aspire 7 A715-42G (NH.QAYSI.001)</td>\n",
       "      <td>8</td>\n",
       "    </tr>\n",
       "    <tr>\n",
       "      <th>4</th>\n",
       "      <td>Acer Aspire 7 A715-75G (NH.Q85SI.003)</td>\n",
       "      <td>8</td>\n",
       "    </tr>\n",
       "    <tr>\n",
       "      <th>5</th>\n",
       "      <td>Acer Nitro 5 AN515-43 (UN.Q5XSI.001)</td>\n",
       "      <td>8</td>\n",
       "    </tr>\n",
       "    <tr>\n",
       "      <th>6</th>\n",
       "      <td>Acer Nitro 5 AN515-42 (UN.Q3RSI.001)</td>\n",
       "      <td>8</td>\n",
       "    </tr>\n",
       "    <tr>\n",
       "      <th>...</th>\n",
       "      <td>...</td>\n",
       "      <td>...</td>\n",
       "    </tr>\n",
       "    <tr>\n",
       "      <th>138</th>\n",
       "      <td>Dell Inspiron 15 3505 (D560428WIN9BE)</td>\n",
       "      <td>8</td>\n",
       "    </tr>\n",
       "    <tr>\n",
       "      <th>139</th>\n",
       "      <td>Dell Inspiron 15 3583 (C563115WIN9)</td>\n",
       "      <td>8</td>\n",
       "    </tr>\n",
       "    <tr>\n",
       "      <th>140</th>\n",
       "      <td>Dell Vostro 14 3400 (D552183WIN9DE)</td>\n",
       "      <td>8</td>\n",
       "    </tr>\n",
       "    <tr>\n",
       "      <th>141</th>\n",
       "      <td>Dell Inspiron 15 3511 (D560593WIN9SE)</td>\n",
       "      <td>8</td>\n",
       "    </tr>\n",
       "    <tr>\n",
       "      <th>142</th>\n",
       "      <td>Dell Inspiron 15 3501 (D560385WIN9S)</td>\n",
       "      <td>8</td>\n",
       "    </tr>\n",
       "  </tbody>\n",
       "</table>\n",
       "<p>94 rows × 2 columns</p>\n",
       "</div>"
      ],
      "text/plain": [
       "                                           Name Memory (GB)\n",
       "0    Acer Aspire 7 A715-41G-R6S8 (NH.Q8DSI.001)           8\n",
       "3         Acer Aspire 7 A715-42G (NH.QAYSI.001)           8\n",
       "4         Acer Aspire 7 A715-75G (NH.Q85SI.003)           8\n",
       "5          Acer Nitro 5 AN515-43 (UN.Q5XSI.001)           8\n",
       "6          Acer Nitro 5 AN515-42 (UN.Q3RSI.001)           8\n",
       "..                                          ...         ...\n",
       "138       Dell Inspiron 15 3505 (D560428WIN9BE)           8\n",
       "139         Dell Inspiron 15 3583 (C563115WIN9)           8\n",
       "140         Dell Vostro 14 3400 (D552183WIN9DE)           8\n",
       "141       Dell Inspiron 15 3511 (D560593WIN9SE)           8\n",
       "142        Dell Inspiron 15 3501 (D560385WIN9S)           8\n",
       "\n",
       "[94 rows x 2 columns]"
      ]
     },
     "execution_count": 25,
     "metadata": {},
     "output_type": "execute_result"
    }
   ],
   "source": [
    "import numpy as np\n",
    "sub=df[['Name','Memory (GB)']].where(df['Memory (GB)'].astype(np.float64)>4.0)\n",
    "sub.dropna()"
   ]
  },
  {
   "cell_type": "code",
   "execution_count": 26,
   "id": "108aea93",
   "metadata": {},
   "outputs": [
    {
     "data": {
      "text/html": [
       "<div>\n",
       "<style scoped>\n",
       "    .dataframe tbody tr th:only-of-type {\n",
       "        vertical-align: middle;\n",
       "    }\n",
       "\n",
       "    .dataframe tbody tr th {\n",
       "        vertical-align: top;\n",
       "    }\n",
       "\n",
       "    .dataframe thead th {\n",
       "        text-align: right;\n",
       "    }\n",
       "</style>\n",
       "<table border=\"1\" class=\"dataframe\">\n",
       "  <thead>\n",
       "    <tr style=\"text-align: right;\">\n",
       "      <th></th>\n",
       "      <th>Name</th>\n",
       "      <th>Screensize (Inch)</th>\n",
       "    </tr>\n",
       "  </thead>\n",
       "  <tbody>\n",
       "    <tr>\n",
       "      <th>0</th>\n",
       "      <td>Acer Aspire 7 A715-41G-R6S8 (NH.Q8DSI.001)</td>\n",
       "      <td>15.6</td>\n",
       "    </tr>\n",
       "    <tr>\n",
       "      <th>2</th>\n",
       "      <td>Acer Aspire 3 A315-53 (NX.H38SI.010)</td>\n",
       "      <td>15.6</td>\n",
       "    </tr>\n",
       "    <tr>\n",
       "      <th>3</th>\n",
       "      <td>Acer Aspire 7 A715-42G (NH.QAYSI.001)</td>\n",
       "      <td>15.6</td>\n",
       "    </tr>\n",
       "    <tr>\n",
       "      <th>4</th>\n",
       "      <td>Acer Aspire 7 A715-75G (NH.Q85SI.003)</td>\n",
       "      <td>15.6</td>\n",
       "    </tr>\n",
       "    <tr>\n",
       "      <th>5</th>\n",
       "      <td>Acer Nitro 5 AN515-43 (UN.Q5XSI.001)</td>\n",
       "      <td>15.6</td>\n",
       "    </tr>\n",
       "    <tr>\n",
       "      <th>...</th>\n",
       "      <td>...</td>\n",
       "      <td>...</td>\n",
       "    </tr>\n",
       "    <tr>\n",
       "      <th>138</th>\n",
       "      <td>Dell Inspiron 15 3505 (D560428WIN9BE)</td>\n",
       "      <td>15.6</td>\n",
       "    </tr>\n",
       "    <tr>\n",
       "      <th>139</th>\n",
       "      <td>Dell Inspiron 15 3583 (C563115WIN9)</td>\n",
       "      <td>15.6</td>\n",
       "    </tr>\n",
       "    <tr>\n",
       "      <th>141</th>\n",
       "      <td>Dell Inspiron 15 3511 (D560593WIN9SE)</td>\n",
       "      <td>15.6</td>\n",
       "    </tr>\n",
       "    <tr>\n",
       "      <th>142</th>\n",
       "      <td>Dell Inspiron 15 3501 (D560385WIN9S)</td>\n",
       "      <td>15.6</td>\n",
       "    </tr>\n",
       "    <tr>\n",
       "      <th>143</th>\n",
       "      <td>Dell Inspiron 15 3593 (D560267WIN9S)</td>\n",
       "      <td>15.6</td>\n",
       "    </tr>\n",
       "  </tbody>\n",
       "</table>\n",
       "<p>95 rows × 2 columns</p>\n",
       "</div>"
      ],
      "text/plain": [
       "                                           Name Screensize (Inch)\n",
       "0    Acer Aspire 7 A715-41G-R6S8 (NH.Q8DSI.001)              15.6\n",
       "2          Acer Aspire 3 A315-53 (NX.H38SI.010)              15.6\n",
       "3         Acer Aspire 7 A715-42G (NH.QAYSI.001)              15.6\n",
       "4         Acer Aspire 7 A715-75G (NH.Q85SI.003)              15.6\n",
       "5          Acer Nitro 5 AN515-43 (UN.Q5XSI.001)              15.6\n",
       "..                                          ...               ...\n",
       "138       Dell Inspiron 15 3505 (D560428WIN9BE)              15.6\n",
       "139         Dell Inspiron 15 3583 (C563115WIN9)              15.6\n",
       "141       Dell Inspiron 15 3511 (D560593WIN9SE)              15.6\n",
       "142        Dell Inspiron 15 3501 (D560385WIN9S)              15.6\n",
       "143        Dell Inspiron 15 3593 (D560267WIN9S)              15.6\n",
       "\n",
       "[95 rows x 2 columns]"
      ]
     },
     "execution_count": 26,
     "metadata": {},
     "output_type": "execute_result"
    }
   ],
   "source": [
    "subs=df[['Name','Screensize (Inch)']].where(df['Screensize (Inch)'].astype(np.float64)>14.0)\n",
    "subs.dropna()"
   ]
  },
  {
   "cell_type": "code",
   "execution_count": 29,
   "id": "8070eab3",
   "metadata": {},
   "outputs": [],
   "source": [
    "df['Price']=df['Price'].str.replace(',','')"
   ]
  },
  {
   "cell_type": "code",
   "execution_count": 30,
   "id": "6dd191fe",
   "metadata": {},
   "outputs": [
    {
     "data": {
      "text/html": [
       "<div>\n",
       "<style scoped>\n",
       "    .dataframe tbody tr th:only-of-type {\n",
       "        vertical-align: middle;\n",
       "    }\n",
       "\n",
       "    .dataframe tbody tr th {\n",
       "        vertical-align: top;\n",
       "    }\n",
       "\n",
       "    .dataframe thead th {\n",
       "        text-align: right;\n",
       "    }\n",
       "</style>\n",
       "<table border=\"1\" class=\"dataframe\">\n",
       "  <thead>\n",
       "    <tr style=\"text-align: right;\">\n",
       "      <th></th>\n",
       "      <th>Name</th>\n",
       "      <th>Price</th>\n",
       "      <th>Screensize (Inch)</th>\n",
       "      <th>Memory (GB)</th>\n",
       "    </tr>\n",
       "  </thead>\n",
       "  <tbody>\n",
       "    <tr>\n",
       "      <th>0</th>\n",
       "      <td>Acer Aspire 7 A715-41G-R6S8 (NH.Q8DSI.001)</td>\n",
       "      <td>54990</td>\n",
       "      <td>15.6</td>\n",
       "      <td>8</td>\n",
       "    </tr>\n",
       "    <tr>\n",
       "      <th>1</th>\n",
       "      <td>Acer Aspire Switch One SW110-1CT (UT.709SI.001)</td>\n",
       "      <td>13500</td>\n",
       "      <td>10.1</td>\n",
       "      <td>2</td>\n",
       "    </tr>\n",
       "    <tr>\n",
       "      <th>2</th>\n",
       "      <td>Acer Aspire 3 A315-53 (NX.H38SI.010)</td>\n",
       "      <td>23990</td>\n",
       "      <td>15.6</td>\n",
       "      <td>4</td>\n",
       "    </tr>\n",
       "    <tr>\n",
       "      <th>3</th>\n",
       "      <td>Acer Aspire 7 A715-42G (NH.QAYSI.001)</td>\n",
       "      <td>61369</td>\n",
       "      <td>15.6</td>\n",
       "      <td>8</td>\n",
       "    </tr>\n",
       "    <tr>\n",
       "      <th>4</th>\n",
       "      <td>Acer Aspire 7 A715-75G (NH.Q85SI.003)</td>\n",
       "      <td>57990</td>\n",
       "      <td>15.6</td>\n",
       "      <td>8</td>\n",
       "    </tr>\n",
       "    <tr>\n",
       "      <th>...</th>\n",
       "      <td>...</td>\n",
       "      <td>...</td>\n",
       "      <td>...</td>\n",
       "      <td>...</td>\n",
       "    </tr>\n",
       "    <tr>\n",
       "      <th>139</th>\n",
       "      <td>Dell Inspiron 15 3583 (C563115WIN9)</td>\n",
       "      <td>52200</td>\n",
       "      <td>15.6</td>\n",
       "      <td>8</td>\n",
       "    </tr>\n",
       "    <tr>\n",
       "      <th>140</th>\n",
       "      <td>Dell Vostro 14 3400 (D552183WIN9DE)</td>\n",
       "      <td>62290</td>\n",
       "      <td>14</td>\n",
       "      <td>8</td>\n",
       "    </tr>\n",
       "    <tr>\n",
       "      <th>141</th>\n",
       "      <td>Dell Inspiron 15 3511 (D560593WIN9SE)</td>\n",
       "      <td>41990</td>\n",
       "      <td>15.6</td>\n",
       "      <td>8</td>\n",
       "    </tr>\n",
       "    <tr>\n",
       "      <th>142</th>\n",
       "      <td>Dell Inspiron 15 3501 (D560385WIN9S)</td>\n",
       "      <td>67349</td>\n",
       "      <td>15.6</td>\n",
       "      <td>8</td>\n",
       "    </tr>\n",
       "    <tr>\n",
       "      <th>143</th>\n",
       "      <td>Dell Inspiron 15 3593 (D560267WIN9S)</td>\n",
       "      <td>41990</td>\n",
       "      <td>15.6</td>\n",
       "      <td>4</td>\n",
       "    </tr>\n",
       "  </tbody>\n",
       "</table>\n",
       "<p>144 rows × 4 columns</p>\n",
       "</div>"
      ],
      "text/plain": [
       "                                                Name  Price Screensize (Inch)  \\\n",
       "0         Acer Aspire 7 A715-41G-R6S8 (NH.Q8DSI.001)  54990              15.6   \n",
       "1    Acer Aspire Switch One SW110-1CT (UT.709SI.001)  13500              10.1   \n",
       "2               Acer Aspire 3 A315-53 (NX.H38SI.010)  23990              15.6   \n",
       "3              Acer Aspire 7 A715-42G (NH.QAYSI.001)  61369              15.6   \n",
       "4              Acer Aspire 7 A715-75G (NH.Q85SI.003)  57990              15.6   \n",
       "..                                               ...    ...               ...   \n",
       "139              Dell Inspiron 15 3583 (C563115WIN9)  52200              15.6   \n",
       "140              Dell Vostro 14 3400 (D552183WIN9DE)  62290                14   \n",
       "141            Dell Inspiron 15 3511 (D560593WIN9SE)  41990              15.6   \n",
       "142             Dell Inspiron 15 3501 (D560385WIN9S)  67349              15.6   \n",
       "143             Dell Inspiron 15 3593 (D560267WIN9S)  41990              15.6   \n",
       "\n",
       "    Memory (GB)  \n",
       "0             8  \n",
       "1             2  \n",
       "2             4  \n",
       "3             8  \n",
       "4             8  \n",
       "..          ...  \n",
       "139           8  \n",
       "140           8  \n",
       "141           8  \n",
       "142           8  \n",
       "143           4  \n",
       "\n",
       "[144 rows x 4 columns]"
      ]
     },
     "execution_count": 30,
     "metadata": {},
     "output_type": "execute_result"
    }
   ],
   "source": [
    "df"
   ]
  },
  {
   "cell_type": "code",
   "execution_count": 81,
   "id": "19666487",
   "metadata": {},
   "outputs": [],
   "source": [
    "import seaborn as sns"
   ]
  },
  {
   "cell_type": "markdown",
   "id": "76b42678",
   "metadata": {},
   "source": [
    "Laptop brands\n",
    "A- Acer, D-Dell, H- HP"
   ]
  },
  {
   "cell_type": "code",
   "execution_count": 77,
   "id": "c34b274e",
   "metadata": {},
   "outputs": [
    {
     "name": "stderr",
     "output_type": "stream",
     "text": [
      "C:\\Users\\Admin\\AppData\\Local\\Temp/ipykernel_12196/4160012486.py:2: SettingWithCopyWarning: \n",
      "A value is trying to be set on a copy of a slice from a DataFrame.\n",
      "Try using .loc[row_indexer,col_indexer] = value instead\n",
      "\n",
      "See the caveats in the documentation: https://pandas.pydata.org/pandas-docs/stable/user_guide/indexing.html#returning-a-view-versus-a-copy\n",
      "  graphs_df['Name']=df['Name'].str.slice(0,1)\n",
      "C:\\Users\\Admin\\AppData\\Local\\Temp/ipykernel_12196/4160012486.py:3: SettingWithCopyWarning: \n",
      "A value is trying to be set on a copy of a slice from a DataFrame.\n",
      "Try using .loc[row_indexer,col_indexer] = value instead\n",
      "\n",
      "See the caveats in the documentation: https://pandas.pydata.org/pandas-docs/stable/user_guide/indexing.html#returning-a-view-versus-a-copy\n",
      "  graphs_df['Screensize (Inch)']=graphs_df['Screensize (Inch)'].astype(np.float64)\n"
     ]
    }
   ],
   "source": [
    "graphs_df=df[['Name','Screensize (Inch)']]\n",
    "graphs_df['Name']=df['Name'].str.slice(0,1)\n",
    "graphs_df['Screensize (Inch)']=graphs_df['Screensize (Inch)'].astype(np.float64)"
   ]
  },
  {
   "cell_type": "code",
   "execution_count": 78,
   "id": "a47af5da",
   "metadata": {},
   "outputs": [
    {
     "data": {
      "text/plain": [
       "<AxesSubplot:xlabel='Name', ylabel='Screensize (Inch)'>"
      ]
     },
     "execution_count": 78,
     "metadata": {},
     "output_type": "execute_result"
    },
    {
     "data": {
      "image/png": "[encoded data removed]",
      "text/plain": [
       "<Figure size 432x288 with 1 Axes>"
      ]
     },
     "metadata": {
      "needs_background": "light"
     },
     "output_type": "display_data"
    }
   ],
   "source": [
    "#screen size range by brand\n",
    "sns.histplot(data=graphs_df,x='Name',y='Screensize (Inch)')"
   ]
  },
  {
   "cell_type": "code",
   "execution_count": 79,
   "id": "492c85c7",
   "metadata": {},
   "outputs": [
    {
     "name": "stderr",
     "output_type": "stream",
     "text": [
      "C:\\Users\\Admin\\AppData\\Local\\Temp/ipykernel_12196/2758753844.py:2: SettingWithCopyWarning: \n",
      "A value is trying to be set on a copy of a slice from a DataFrame.\n",
      "Try using .loc[row_indexer,col_indexer] = value instead\n",
      "\n",
      "See the caveats in the documentation: https://pandas.pydata.org/pandas-docs/stable/user_guide/indexing.html#returning-a-view-versus-a-copy\n",
      "  graphm_df['Name']=df['Name'].str.slice(0,1)\n",
      "C:\\Users\\Admin\\AppData\\Local\\Temp/ipykernel_12196/2758753844.py:3: SettingWithCopyWarning: \n",
      "A value is trying to be set on a copy of a slice from a DataFrame.\n",
      "Try using .loc[row_indexer,col_indexer] = value instead\n",
      "\n",
      "See the caveats in the documentation: https://pandas.pydata.org/pandas-docs/stable/user_guide/indexing.html#returning-a-view-versus-a-copy\n",
      "  graphm_df['Memory (GB)']=graphm_df['Memory (GB)'].astype(np.int64)\n"
     ]
    }
   ],
   "source": [
    "graphm_df=df[['Name','Memory (GB)']]\n",
    "graphm_df['Name']=df['Name'].str.slice(0,1)\n",
    "graphm_df['Memory (GB)']=graphm_df['Memory (GB)'].astype(np.int64)"
   ]
  },
  {
   "cell_type": "code",
   "execution_count": 80,
   "id": "7833102e",
   "metadata": {},
   "outputs": [
    {
     "data": {
      "text/plain": [
       "<AxesSubplot:xlabel='Name', ylabel='Memory (GB)'>"
      ]
     },
     "execution_count": 80,
     "metadata": {},
     "output_type": "execute_result"
    },
    {
     "data": {
      "image/png": "[encoded data removed]",
      "text/plain": [
       "<Figure size 432x288 with 1 Axes>"
      ]
     },
     "metadata": {
      "needs_background": "light"
     },
     "output_type": "display_data"
    }
   ],
   "source": [
    "#memory range by brand\n",
    "sns.histplot(data=graphm_df,x='Name',y='Memory (GB)')"
   ]
  },
  {
   "cell_type": "code",
   "execution_count": 64,
   "id": "7002d40a",
   "metadata": {},
   "outputs": [
    {
     "name": "stderr",
     "output_type": "stream",
     "text": [
      "C:\\Users\\Admin\\AppData\\Local\\Temp/ipykernel_12196/2370005419.py:2: SettingWithCopyWarning: \n",
      "A value is trying to be set on a copy of a slice from a DataFrame.\n",
      "Try using .loc[row_indexer,col_indexer] = value instead\n",
      "\n",
      "See the caveats in the documentation: https://pandas.pydata.org/pandas-docs/stable/user_guide/indexing.html#returning-a-view-versus-a-copy\n",
      "  graph_df['Name']=df['Name'].str.slice(0,1)\n",
      "C:\\Users\\Admin\\AppData\\Local\\Temp/ipykernel_12196/2370005419.py:3: SettingWithCopyWarning: \n",
      "A value is trying to be set on a copy of a slice from a DataFrame.\n",
      "Try using .loc[row_indexer,col_indexer] = value instead\n",
      "\n",
      "See the caveats in the documentation: https://pandas.pydata.org/pandas-docs/stable/user_guide/indexing.html#returning-a-view-versus-a-copy\n",
      "  graph_df['Price']=graph_df['Price'].astype(np.int64)\n"
     ]
    },
    {
     "data": {
      "text/html": [
       "<div>\n",
       "<style scoped>\n",
       "    .dataframe tbody tr th:only-of-type {\n",
       "        vertical-align: middle;\n",
       "    }\n",
       "\n",
       "    .dataframe tbody tr th {\n",
       "        vertical-align: top;\n",
       "    }\n",
       "\n",
       "    .dataframe thead th {\n",
       "        text-align: right;\n",
       "    }\n",
       "</style>\n",
       "<table border=\"1\" class=\"dataframe\">\n",
       "  <thead>\n",
       "    <tr style=\"text-align: right;\">\n",
       "      <th></th>\n",
       "      <th>Name</th>\n",
       "      <th>Price</th>\n",
       "    </tr>\n",
       "  </thead>\n",
       "  <tbody>\n",
       "    <tr>\n",
       "      <th>0</th>\n",
       "      <td>A</td>\n",
       "      <td>54990</td>\n",
       "    </tr>\n",
       "    <tr>\n",
       "      <th>1</th>\n",
       "      <td>A</td>\n",
       "      <td>13500</td>\n",
       "    </tr>\n",
       "    <tr>\n",
       "      <th>2</th>\n",
       "      <td>A</td>\n",
       "      <td>23990</td>\n",
       "    </tr>\n",
       "    <tr>\n",
       "      <th>3</th>\n",
       "      <td>A</td>\n",
       "      <td>61369</td>\n",
       "    </tr>\n",
       "    <tr>\n",
       "      <th>4</th>\n",
       "      <td>A</td>\n",
       "      <td>57990</td>\n",
       "    </tr>\n",
       "    <tr>\n",
       "      <th>...</th>\n",
       "      <td>...</td>\n",
       "      <td>...</td>\n",
       "    </tr>\n",
       "    <tr>\n",
       "      <th>139</th>\n",
       "      <td>D</td>\n",
       "      <td>52200</td>\n",
       "    </tr>\n",
       "    <tr>\n",
       "      <th>140</th>\n",
       "      <td>D</td>\n",
       "      <td>62290</td>\n",
       "    </tr>\n",
       "    <tr>\n",
       "      <th>141</th>\n",
       "      <td>D</td>\n",
       "      <td>41990</td>\n",
       "    </tr>\n",
       "    <tr>\n",
       "      <th>142</th>\n",
       "      <td>D</td>\n",
       "      <td>67349</td>\n",
       "    </tr>\n",
       "    <tr>\n",
       "      <th>143</th>\n",
       "      <td>D</td>\n",
       "      <td>41990</td>\n",
       "    </tr>\n",
       "  </tbody>\n",
       "</table>\n",
       "<p>144 rows × 2 columns</p>\n",
       "</div>"
      ],
      "text/plain": [
       "    Name  Price\n",
       "0      A  54990\n",
       "1      A  13500\n",
       "2      A  23990\n",
       "3      A  61369\n",
       "4      A  57990\n",
       "..   ...    ...\n",
       "139    D  52200\n",
       "140    D  62290\n",
       "141    D  41990\n",
       "142    D  67349\n",
       "143    D  41990\n",
       "\n",
       "[144 rows x 2 columns]"
      ]
     },
     "execution_count": 64,
     "metadata": {},
     "output_type": "execute_result"
    }
   ],
   "source": [
    "graph_df=df[['Name','Price']]\n",
    "graph_df['Name']=df['Name'].str.slice(0,1)\n",
    "graph_df['Price']=graph_df['Price'].astype(np.int64)\n",
    "graph_df"
   ]
  },
  {
   "cell_type": "code",
   "execution_count": 67,
   "id": "12a64575",
   "metadata": {},
   "outputs": [
    {
     "data": {
      "text/plain": [
       "<AxesSubplot:xlabel='Name', ylabel='Price'>"
      ]
     },
     "execution_count": 67,
     "metadata": {},
     "output_type": "execute_result"
    },
    {
     "data": {
      "image/png": "[encoded data removed]",
      "text/plain": [
       "<Figure size 432x288 with 1 Axes>"
      ]
     },
     "metadata": {
      "needs_background": "light"
     },
     "output_type": "display_data"
    }
   ],
   "source": [
    "#price range by brand\n",
    "sns.barplot(data=graph_df,x='Name',y='Price')"
   ]
  },
  {
   "cell_type": "markdown",
   "id": "a96f926c",
   "metadata": {},
   "source": [
    "Conclusion|Summary\n",
    "\n",
    "Laptop brands- Acer, Dell and HP\n",
    "1.Most laptops are of the range 41k to 45k rs.\n",
    "2.Most of the laptops available in the market offer 8 GB memory.\n",
    "3.Acer has laptops of higher screen size range (upto 17 inches), HP and Dell offer laptops of similar screen size range(upto 16 inches).\n",
    "4.All the brands offer laptops of highest memory value-16 GB.\n",
    "5.Comparing the brands Acer,Dell and HP, Acer is of higher price range (upto 70k).Dell and HP are relatively cheaper (upto 50k)."
   ]
  }
 ],
 "metadata": {
  "kernelspec": {
   "display_name": "Python 3 (ipykernel)",
   "language": "python",
   "name": "python3"
  },
  "language_info": {
   "codemirror_mode": {
    "name": "ipython",
    "version": 3
   },
   "file_extension": ".py",
   "mimetype": "text/x-python",
   "name": "python",
   "nbconvert_exporter": "python",
   "pygments_lexer": "ipython3",
   "version": "3.10.0"
  }
 },
 "nbformat": 4,
 "nbformat_minor": 5
}
