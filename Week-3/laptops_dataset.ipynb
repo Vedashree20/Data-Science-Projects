{
 "cells": [
  {
   "cell_type": "code",
   "execution_count": 1,
   "id": "53986d5f",
   "metadata": {},
   "outputs": [],
   "source": [
    "import requests"
   ]
  },
  {
   "cell_type": "code",
   "execution_count": 2,
   "id": "e5ef7933",
   "metadata": {},
   "outputs": [],
   "source": [
    "#acer\n",
    "topics_url='https://www.mysmartprice.com/computer/pricelist/acer-laptop-price-list-in-india.html'"
   ]
  },
  {
   "cell_type": "code",
   "execution_count": 3,
   "id": "cf02890b",
   "metadata": {},
   "outputs": [],
   "source": [
    "response=requests.get(topics_url)"
   ]
  },
  {
   "cell_type": "code",
   "execution_count": 4,
   "id": "d35beee2",
   "metadata": {},
   "outputs": [],
   "source": [
    "from bs4 import BeautifulSoup"
   ]
  },
  {
   "cell_type": "code",
   "execution_count": 5,
   "id": "fa34e2e7",
   "metadata": {},
   "outputs": [],
   "source": [
    "page_contents=response.text\n",
    "doc = BeautifulSoup(page_contents)"
   ]
  },
  {
   "cell_type": "code",
   "execution_count": 6,
   "id": "14335f51",
   "metadata": {},
   "outputs": [],
   "source": [
    "containers = doc.find_all('li', class_=\"prdct-item clearfix card prdt-item-other\")"
   ]
  },
  {
   "cell_type": "code",
   "execution_count": 32,
   "id": "f26f6b91",
   "metadata": {},
   "outputs": [],
   "source": [
    "for c in containers:\n",
    "    name=c.find('a',class_='prdct-item__name').text\n",
    "    laptop=name.split(' Laptop ')\n",
    "    name=laptop[0][7:]\n",
    "    names.append(name)#1\n",
    "    price.append(c.find('span',class_='prdct-item__prc-val').text)#2\n",
    "    prop=laptop[1].split(' | ')\n",
    "    memory.append(prop[2])#3\n",
    "    screensize.append(prop[0][1:])#4"
   ]
  },
  {
   "cell_type": "code",
   "execution_count": 16,
   "id": "62cc8efc",
   "metadata": {},
   "outputs": [],
   "source": [
    "#hp\n",
    "url='https://www.mysmartprice.com/computer/pricelist/hp-laptop-price-list-in-india.html'"
   ]
  },
  {
   "cell_type": "code",
   "execution_count": 17,
   "id": "86d3784c",
   "metadata": {},
   "outputs": [],
   "source": [
    "response1=requests.get(url)"
   ]
  },
  {
   "cell_type": "code",
   "execution_count": 18,
   "id": "6f409c25",
   "metadata": {},
   "outputs": [],
   "source": [
    "page_contents1=response1.text\n",
    "doc1 = BeautifulSoup(page_contents1)"
   ]
  },
  {
   "cell_type": "code",
   "execution_count": 19,
   "id": "b8241644",
   "metadata": {},
   "outputs": [],
   "source": [
    "containers1 = doc1.find_all('li', class_=\"prdct-item clearfix card prdt-item-other\")"
   ]
  },
  {
   "cell_type": "code",
   "execution_count": 33,
   "id": "db37d353",
   "metadata": {},
   "outputs": [],
   "source": [
    "for c in containers1:\n",
    "    name=c.find('a',class_='prdct-item__name').text\n",
    "    laptop=name.split(' Laptop ')\n",
    "    name=laptop[0][7:]\n",
    "    names.append(name)#1\n",
    "    price.append(c.find('span',class_='prdct-item__prc-val').text)#2\n",
    "    prop=laptop[1].split(' | ')\n",
    "    memory.append(prop[2])#3\n",
    "    screensize.append(prop[0][1:])#4"
   ]
  },
  {
   "cell_type": "code",
   "execution_count": 22,
   "id": "a2854c2d",
   "metadata": {},
   "outputs": [],
   "source": [
    "#dell\n",
    "topics_d='https://www.mysmartprice.com/computer/pricelist/dell-laptop-price-list-in-india.html'"
   ]
  },
  {
   "cell_type": "code",
   "execution_count": 23,
   "id": "79bde89d",
   "metadata": {},
   "outputs": [],
   "source": [
    "response2=requests.get(topics_d)"
   ]
  },
  {
   "cell_type": "code",
   "execution_count": 24,
   "id": "451c85cc",
   "metadata": {},
   "outputs": [],
   "source": [
    "page_contents2=response2.text\n",
    "doc2 = BeautifulSoup(page_contents2)"
   ]
  },
  {
   "cell_type": "code",
   "execution_count": 25,
   "id": "ab89085f",
   "metadata": {},
   "outputs": [],
   "source": [
    "containers2 = doc2.find_all('li', class_=\"prdct-item clearfix card prdt-item-other\")"
   ]
  },
  {
   "cell_type": "code",
   "execution_count": 34,
   "id": "33701b1c",
   "metadata": {},
   "outputs": [],
   "source": [
    "for c in containers2:\n",
    "    name=c.find('a',class_='prdct-item__name').text\n",
    "    laptop=name.split(' Laptop ')\n",
    "    name=laptop[0][7:]\n",
    "    names.append(name)#1\n",
    "    price.append(c.find('span',class_='prdct-item__prc-val').text)#2\n",
    "    prop=laptop[1].split(' | ')\n",
    "    memory.append(prop[2])#3\n",
    "    screensize.append(prop[0][1:])#4"
   ]
  },
  {
   "cell_type": "code",
   "execution_count": 35,
   "id": "1b38f13e",
   "metadata": {},
   "outputs": [
    {
     "name": "stdout",
     "output_type": "stream",
     "text": [
      "144 144 144 144\n"
     ]
    }
   ],
   "source": [
    "print(len(names),len(price),len(memory),len(screensize))"
   ]
  },
  {
   "cell_type": "code",
   "execution_count": 36,
   "id": "f7a8616b",
   "metadata": {},
   "outputs": [],
   "source": [
    "laptops_dict = {\n",
    "    'Name': names,\n",
    "    'Price':price,\n",
    "    'Screensize':screensize,\n",
    "    'Memory':memory\n",
    "}"
   ]
  },
  {
   "cell_type": "code",
   "execution_count": 37,
   "id": "e5517156",
   "metadata": {},
   "outputs": [],
   "source": [
    "import pandas as pd\n",
    "laptops_df = pd.DataFrame(laptops_dict)"
   ]
  },
  {
   "cell_type": "code",
   "execution_count": 38,
   "id": "86a9d79b",
   "metadata": {},
   "outputs": [],
   "source": [
    "laptops_df.to_csv('laptops_dataset.csv',index=None)"
   ]
  },
  {
   "cell_type": "code",
   "execution_count": 31,
   "id": "d5749bdd",
   "metadata": {},
   "outputs": [],
   "source": []
  },
  {
   "cell_type": "code",
   "execution_count": null,
   "id": "0a58f9fe",
   "metadata": {},
   "outputs": [],
   "source": []
  }
 ],
 "metadata": {
  "kernelspec": {
   "display_name": "Python 3 (ipykernel)",
   "language": "python",
   "name": "python3"
  },
  "language_info": {
   "codemirror_mode": {
    "name": "ipython",
    "version": 3
   },
   "file_extension": ".py",
   "mimetype": "text/x-python",
   "name": "python",
   "nbconvert_exporter": "python",
   "pygments_lexer": "ipython3",
   "version": "3.10.0"
  }
 },
 "nbformat": 4,
 "nbformat_minor": 5
}
