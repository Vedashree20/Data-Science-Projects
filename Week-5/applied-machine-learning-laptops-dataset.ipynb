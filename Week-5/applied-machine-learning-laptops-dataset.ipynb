{
 "cells": [
  {
   "cell_type": "markdown",
   "id": "ce8b597d",
   "metadata": {
    "papermill": {
     "duration": 0.033274,
     "end_time": "2021-12-20T19:10:07.288133",
     "exception": false,
     "start_time": "2021-12-20T19:10:07.254859",
     "status": "completed"
    },
    "tags": []
   },
   "source": [
    "# <h3>Predicting price of laptops using different regression models</h3>\n",
    "  <p>Here, I have tried to predict the price of laptops using different regression models. I have          also used the K means Algorithm to find clusters using parameters screensize and memory.You can      also expand the dataset by adding categorical values using the feature engineering technique          provided at the end of the notebook.</p>\n",
    "  \n",
    "     Algorithms\n",
    "          Linear Regression\n",
    "          TheilSenRegressor\n",
    "          RANSAC Regressor\n",
    "          HuberRegressor\n",
    "          Gaussian Process Regressor\n",
    "          Support Vector Machine\n",
    "          Nu-Support Vector Classification\n",
    "          KNN\n",
    "          Random Forest\n",
    "          Decision Tree\n",
    "          Extra Tree\n",
    "          AdaBoost Regressor\n",
    "          Passive Aggressive Regressor\n",
    "          Bagging Regressor\n",
    "          Gradient Boosting\n",
    "          XGBoost\n",
    "          Catboost\n",
    "          Stochastic Gradient Descent\n",
    "          Lasso\n",
    "          Kernel Ridge Regression\n",
    "          Bayesian Ridge\n",
    "          Elastic Net Regression\n",
    "          K-Means Algorithm"
   ]
  },
  {
   "cell_type": "code",
   "execution_count": 1,
   "id": "54413bef",
   "metadata": {
    "_cell_guid": "b1076dfc-b9ad-4769-8c92-a6c4dae69d19",
    "_uuid": "8f2839f25d086af736a60e9eeb907d3b93b6e0e5",
    "execution": {
     "iopub.execute_input": "2021-12-20T19:10:07.357622Z",
     "iopub.status.busy": "2021-12-20T19:10:07.356008Z",
     "iopub.status.idle": "2021-12-20T19:10:07.375906Z",
     "shell.execute_reply": "2021-12-20T19:10:07.376539Z",
     "shell.execute_reply.started": "2021-12-20T18:58:36.867629Z"
    },
    "papermill": {
     "duration": 0.056584,
     "end_time": "2021-12-20T19:10:07.376933",
     "exception": false,
     "start_time": "2021-12-20T19:10:07.320349",
     "status": "completed"
    },
    "tags": []
   },
   "outputs": [
    {
     "name": "stdout",
     "output_type": "stream",
     "text": [
      "/kaggle/input/laptop-brands-dataset/laptops_dataset.csv\n"
     ]
    }
   ],
   "source": [
    "# This Python 3 environment comes with many helpful analytics libraries installed\n",
    "# It is defined by the kaggle/python Docker image: https://github.com/kaggle/docker-python\n",
    "# For example, here's several helpful packages to load\n",
    "\n",
    "import numpy as np # linear algebra\n",
    "import pandas as pd # data processing, CSV file I/O (e.g. pd.read_csv)\n",
    "\n",
    "# Input data files are available in the read-only \"../input/\" directory\n",
    "# For example, running this (by clicking run or pressing Shift+Enter) will list all files under the input directory\n",
    "\n",
    "import os\n",
    "for dirname, _, filenames in os.walk('/kaggle/input'):\n",
    "    for filename in filenames:\n",
    "        print(os.path.join(dirname, filename))\n",
    "\n",
    "# You can write up to 20GB to the current directory (/kaggle/working/) that gets preserved as output when you create a version using \"Save & Run All\" \n",
    "# You can also write temporary files to /kaggle/temp/, but they won't be saved outside of the current session"
   ]
  },
  {
   "cell_type": "markdown",
   "id": "9580bc9e",
   "metadata": {
    "papermill": {
     "duration": 0.034478,
     "end_time": "2021-12-20T19:10:07.445244",
     "exception": false,
     "start_time": "2021-12-20T19:10:07.410766",
     "status": "completed"
    },
    "tags": []
   },
   "source": [
    "<h3>Linear Regression Model</h3>"
   ]
  },
  {
   "cell_type": "code",
   "execution_count": 2,
   "id": "00159169",
   "metadata": {
    "execution": {
     "iopub.execute_input": "2021-12-20T19:10:07.516127Z",
     "iopub.status.busy": "2021-12-20T19:10:07.515168Z",
     "iopub.status.idle": "2021-12-20T19:10:08.608362Z",
     "shell.execute_reply": "2021-12-20T19:10:08.607730Z",
     "shell.execute_reply.started": "2021-12-20T18:58:36.887129Z"
    },
    "papermill": {
     "duration": 1.130772,
     "end_time": "2021-12-20T19:10:08.608494",
     "exception": false,
     "start_time": "2021-12-20T19:10:07.477722",
     "status": "completed"
    },
    "tags": []
   },
   "outputs": [
    {
     "data": {
      "text/html": [
       "<div>\n",
       "<style scoped>\n",
       "    .dataframe tbody tr th:only-of-type {\n",
       "        vertical-align: middle;\n",
       "    }\n",
       "\n",
       "    .dataframe tbody tr th {\n",
       "        vertical-align: top;\n",
       "    }\n",
       "\n",
       "    .dataframe thead th {\n",
       "        text-align: right;\n",
       "    }\n",
       "</style>\n",
       "<table border=\"1\" class=\"dataframe\">\n",
       "  <thead>\n",
       "    <tr style=\"text-align: right;\">\n",
       "      <th></th>\n",
       "      <th>Name</th>\n",
       "      <th>Price</th>\n",
       "      <th>Screensize</th>\n",
       "      <th>Memory</th>\n",
       "    </tr>\n",
       "  </thead>\n",
       "  <tbody>\n",
       "    <tr>\n",
       "      <th>0</th>\n",
       "      <td>Acer Aspire 7 A715-41G-R6S8 (NH.Q8DSI.001)</td>\n",
       "      <td>54,990</td>\n",
       "      <td>15.6 Inch</td>\n",
       "      <td>8 GB</td>\n",
       "    </tr>\n",
       "    <tr>\n",
       "      <th>1</th>\n",
       "      <td>Acer Aspire Switch One SW110-1CT (UT.709SI.001)</td>\n",
       "      <td>13,500</td>\n",
       "      <td>10.1 Inch</td>\n",
       "      <td>2 GB</td>\n",
       "    </tr>\n",
       "    <tr>\n",
       "      <th>2</th>\n",
       "      <td>Acer Aspire 3 A315-53 (NX.H38SI.010)</td>\n",
       "      <td>23,990</td>\n",
       "      <td>15.6 Inch</td>\n",
       "      <td>4 GB</td>\n",
       "    </tr>\n",
       "    <tr>\n",
       "      <th>3</th>\n",
       "      <td>Acer Aspire 7 A715-42G (NH.QAYSI.001)</td>\n",
       "      <td>61,369</td>\n",
       "      <td>15.6 Inch</td>\n",
       "      <td>8 GB</td>\n",
       "    </tr>\n",
       "    <tr>\n",
       "      <th>4</th>\n",
       "      <td>Acer Aspire 7 A715-75G (NH.Q85SI.003)</td>\n",
       "      <td>57,990</td>\n",
       "      <td>15.6 Inch</td>\n",
       "      <td>8 GB</td>\n",
       "    </tr>\n",
       "  </tbody>\n",
       "</table>\n",
       "</div>"
      ],
      "text/plain": [
       "                                              Name   Price Screensize Memory\n",
       "0       Acer Aspire 7 A715-41G-R6S8 (NH.Q8DSI.001)  54,990  15.6 Inch   8 GB\n",
       "1  Acer Aspire Switch One SW110-1CT (UT.709SI.001)  13,500  10.1 Inch   2 GB\n",
       "2             Acer Aspire 3 A315-53 (NX.H38SI.010)  23,990  15.6 Inch   4 GB\n",
       "3            Acer Aspire 7 A715-42G (NH.QAYSI.001)  61,369  15.6 Inch   8 GB\n",
       "4            Acer Aspire 7 A715-75G (NH.Q85SI.003)  57,990  15.6 Inch   8 GB"
      ]
     },
     "execution_count": 2,
     "metadata": {},
     "output_type": "execute_result"
    }
   ],
   "source": [
    "import numpy as np\n",
    "import pandas as pd\n",
    "from matplotlib import pyplot as plt\n",
    "from sklearn.linear_model import LinearRegression\n",
    "from sklearn.metrics import mean_squared_error, r2_score\n",
    "from sklearn.metrics import classification_report, confusion_matrix\n",
    "from sklearn.model_selection import train_test_split\n",
    "df = pd.read_csv('../input/laptop-brands-dataset/laptops_dataset.csv')\n",
    "df.dropna()\n",
    "df.head()"
   ]
  },
  {
   "cell_type": "code",
   "execution_count": 3,
   "id": "ed7c0a6a",
   "metadata": {
    "execution": {
     "iopub.execute_input": "2021-12-20T19:10:08.683462Z",
     "iopub.status.busy": "2021-12-20T19:10:08.682401Z",
     "iopub.status.idle": "2021-12-20T19:10:08.699012Z",
     "shell.execute_reply": "2021-12-20T19:10:08.699551Z",
     "shell.execute_reply.started": "2021-12-20T18:58:37.431821Z"
    },
    "papermill": {
     "duration": 0.059426,
     "end_time": "2021-12-20T19:10:08.699744",
     "exception": false,
     "start_time": "2021-12-20T19:10:08.640318",
     "status": "completed"
    },
    "tags": []
   },
   "outputs": [
    {
     "data": {
      "text/html": [
       "<div>\n",
       "<style scoped>\n",
       "    .dataframe tbody tr th:only-of-type {\n",
       "        vertical-align: middle;\n",
       "    }\n",
       "\n",
       "    .dataframe tbody tr th {\n",
       "        vertical-align: top;\n",
       "    }\n",
       "\n",
       "    .dataframe thead th {\n",
       "        text-align: right;\n",
       "    }\n",
       "</style>\n",
       "<table border=\"1\" class=\"dataframe\">\n",
       "  <thead>\n",
       "    <tr style=\"text-align: right;\">\n",
       "      <th></th>\n",
       "      <th>Price</th>\n",
       "      <th>Screensize (Inch)</th>\n",
       "      <th>Memory (GB)</th>\n",
       "    </tr>\n",
       "  </thead>\n",
       "  <tbody>\n",
       "    <tr>\n",
       "      <th>0</th>\n",
       "      <td>54990</td>\n",
       "      <td>15.6</td>\n",
       "      <td>8</td>\n",
       "    </tr>\n",
       "    <tr>\n",
       "      <th>1</th>\n",
       "      <td>13500</td>\n",
       "      <td>10.1</td>\n",
       "      <td>2</td>\n",
       "    </tr>\n",
       "    <tr>\n",
       "      <th>2</th>\n",
       "      <td>23990</td>\n",
       "      <td>15.6</td>\n",
       "      <td>4</td>\n",
       "    </tr>\n",
       "    <tr>\n",
       "      <th>3</th>\n",
       "      <td>61369</td>\n",
       "      <td>15.6</td>\n",
       "      <td>8</td>\n",
       "    </tr>\n",
       "    <tr>\n",
       "      <th>4</th>\n",
       "      <td>57990</td>\n",
       "      <td>15.6</td>\n",
       "      <td>8</td>\n",
       "    </tr>\n",
       "    <tr>\n",
       "      <th>...</th>\n",
       "      <td>...</td>\n",
       "      <td>...</td>\n",
       "      <td>...</td>\n",
       "    </tr>\n",
       "    <tr>\n",
       "      <th>139</th>\n",
       "      <td>52200</td>\n",
       "      <td>15.6</td>\n",
       "      <td>8</td>\n",
       "    </tr>\n",
       "    <tr>\n",
       "      <th>140</th>\n",
       "      <td>62290</td>\n",
       "      <td>14</td>\n",
       "      <td>8</td>\n",
       "    </tr>\n",
       "    <tr>\n",
       "      <th>141</th>\n",
       "      <td>41990</td>\n",
       "      <td>15.6</td>\n",
       "      <td>8</td>\n",
       "    </tr>\n",
       "    <tr>\n",
       "      <th>142</th>\n",
       "      <td>67349</td>\n",
       "      <td>15.6</td>\n",
       "      <td>8</td>\n",
       "    </tr>\n",
       "    <tr>\n",
       "      <th>143</th>\n",
       "      <td>41990</td>\n",
       "      <td>15.6</td>\n",
       "      <td>4</td>\n",
       "    </tr>\n",
       "  </tbody>\n",
       "</table>\n",
       "<p>144 rows × 3 columns</p>\n",
       "</div>"
      ],
      "text/plain": [
       "     Price Screensize (Inch) Memory (GB)\n",
       "0    54990              15.6           8\n",
       "1    13500              10.1           2\n",
       "2    23990              15.6           4\n",
       "3    61369              15.6           8\n",
       "4    57990              15.6           8\n",
       "..     ...               ...         ...\n",
       "139  52200              15.6           8\n",
       "140  62290                14           8\n",
       "141  41990              15.6           8\n",
       "142  67349              15.6           8\n",
       "143  41990              15.6           4\n",
       "\n",
       "[144 rows x 3 columns]"
      ]
     },
     "execution_count": 3,
     "metadata": {},
     "output_type": "execute_result"
    }
   ],
   "source": [
    "df['Price']=df['Price'].str.replace(',','')\n",
    "df['Screensize (Inch)']=df['Screensize'].str.slice(0,-5)\n",
    "df['Memory (GB)']=df['Memory'].str.slice(0,-3)\n",
    "df=df.drop('Screensize',axis=1)\n",
    "df=df.drop('Memory',axis=1)\n",
    "df=df.drop('Name',axis=1)\n",
    "df"
   ]
  },
  {
   "cell_type": "code",
   "execution_count": 4,
   "id": "eac89dc9",
   "metadata": {
    "execution": {
     "iopub.execute_input": "2021-12-20T19:10:08.774701Z",
     "iopub.status.busy": "2021-12-20T19:10:08.771725Z",
     "iopub.status.idle": "2021-12-20T19:10:08.776575Z",
     "shell.execute_reply": "2021-12-20T19:10:08.777008Z",
     "shell.execute_reply.started": "2021-12-20T18:58:37.465555Z"
    },
    "papermill": {
     "duration": 0.042117,
     "end_time": "2021-12-20T19:10:08.777176",
     "exception": false,
     "start_time": "2021-12-20T19:10:08.735059",
     "status": "completed"
    },
    "tags": []
   },
   "outputs": [],
   "source": [
    "Y = df['Price']\n",
    "X = df.drop(['Price'], axis=1)"
   ]
  },
  {
   "cell_type": "code",
   "execution_count": 5,
   "id": "8d82c91d",
   "metadata": {
    "execution": {
     "iopub.execute_input": "2021-12-20T19:10:08.847254Z",
     "iopub.status.busy": "2021-12-20T19:10:08.846645Z",
     "iopub.status.idle": "2021-12-20T19:10:08.853356Z",
     "shell.execute_reply": "2021-12-20T19:10:08.853906Z",
     "shell.execute_reply.started": "2021-12-20T18:58:37.476282Z"
    },
    "papermill": {
     "duration": 0.042984,
     "end_time": "2021-12-20T19:10:08.854086",
     "exception": false,
     "start_time": "2021-12-20T19:10:08.811102",
     "status": "completed"
    },
    "tags": []
   },
   "outputs": [],
   "source": [
    "X_train, X_test, Y_train, Y_test = train_test_split(X, Y, test_size=0.2)"
   ]
  },
  {
   "cell_type": "code",
   "execution_count": 6,
   "id": "514a64af",
   "metadata": {
    "execution": {
     "iopub.execute_input": "2021-12-20T19:10:08.924447Z",
     "iopub.status.busy": "2021-12-20T19:10:08.923830Z",
     "iopub.status.idle": "2021-12-20T19:10:08.949834Z",
     "shell.execute_reply": "2021-12-20T19:10:08.949175Z",
     "shell.execute_reply.started": "2021-12-20T18:58:37.492480Z"
    },
    "papermill": {
     "duration": 0.062558,
     "end_time": "2021-12-20T19:10:08.949985",
     "exception": false,
     "start_time": "2021-12-20T19:10:08.887427",
     "status": "completed"
    },
    "tags": []
   },
   "outputs": [
    {
     "data": {
      "text/plain": [
       "array([ 55688.30895577,  19828.35938982,  57292.14681794,  30712.45067036,\n",
       "        30712.45067036,  57292.14681794, 105640.02552659,  32316.28853253,\n",
       "        30712.45067036,  32316.28853253,  55688.30895577,  55688.30895577,\n",
       "        57292.14681794,  30712.45067036,  57292.14681794,  57292.14681794,\n",
       "       107243.86338875,  55688.30895577,  32316.28853253,  57292.14681794,\n",
       "        57292.14681794,  57292.14681794,  57292.14681794,  57292.14681794,\n",
       "        55688.30895577,  32316.28853253,  32316.28853253,  55688.30895577,\n",
       "        55688.30895577])"
      ]
     },
     "execution_count": 6,
     "metadata": {},
     "output_type": "execute_result"
    }
   ],
   "source": [
    "from sklearn import linear_model\n",
    "model = linear_model.LinearRegression()\n",
    "model.fit(X_train, Y_train)\n",
    "y_pred = model.predict(X_test)\n",
    "y_pred"
   ]
  },
  {
   "cell_type": "code",
   "execution_count": 7,
   "id": "5f917c30",
   "metadata": {
    "execution": {
     "iopub.execute_input": "2021-12-20T19:10:09.022258Z",
     "iopub.status.busy": "2021-12-20T19:10:09.021527Z",
     "iopub.status.idle": "2021-12-20T19:10:09.028779Z",
     "shell.execute_reply": "2021-12-20T19:10:09.029307Z",
     "shell.execute_reply.started": "2021-12-20T18:58:37.517804Z"
    },
    "papermill": {
     "duration": 0.045822,
     "end_time": "2021-12-20T19:10:09.029474",
     "exception": false,
     "start_time": "2021-12-20T19:10:08.983652",
     "status": "completed"
    },
    "tags": []
   },
   "outputs": [
    {
     "name": "stdout",
     "output_type": "stream",
     "text": [
      "Coefficients: [1002.39866385 6243.96457135]\n",
      "Intercept: -8296.988908981366\n",
      "Mean squared error (MSE): 393251369.32\n",
      "Coefficient of determination (R^2): 0.22\n"
     ]
    }
   ],
   "source": [
    "print('Coefficients:', model.coef_)\n",
    "print('Intercept:', model.intercept_)\n",
    "print('Mean squared error (MSE): %.2f'\n",
    "      % mean_squared_error(Y_test, y_pred))\n",
    "print('Coefficient of determination (R^2): %.2f'\n",
    "      % r2_score(Y_test, y_pred))"
   ]
  },
  {
   "cell_type": "code",
   "execution_count": 8,
   "id": "887b7c64",
   "metadata": {
    "execution": {
     "iopub.execute_input": "2021-12-20T19:10:09.099052Z",
     "iopub.status.busy": "2021-12-20T19:10:09.098128Z",
     "iopub.status.idle": "2021-12-20T19:10:09.547407Z",
     "shell.execute_reply": "2021-12-20T19:10:09.546783Z",
     "shell.execute_reply.started": "2021-12-20T18:58:37.535973Z"
    },
    "papermill": {
     "duration": 0.484806,
     "end_time": "2021-12-20T19:10:09.547562",
     "exception": false,
     "start_time": "2021-12-20T19:10:09.062756",
     "status": "completed"
    },
    "tags": []
   },
   "outputs": [
    {
     "name": "stderr",
     "output_type": "stream",
     "text": [
      "/opt/conda/lib/python3.7/site-packages/seaborn/_decorators.py:43: FutureWarning: Pass the following variables as keyword args: x, y. From version 0.12, the only valid positional argument will be `data`, and passing other arguments without an explicit keyword will result in an error or misinterpretation.\n",
      "  FutureWarning\n"
     ]
    },
    {
     "data": {
      "text/plain": [
       "<AxesSubplot:xlabel='Price'>"
      ]
     },
     "execution_count": 8,
     "metadata": {},
     "output_type": "execute_result"
    },
    {
     "data": {
      "image/png": "[encoded data removed]",
      "text/plain": [
       "<Figure size 432x288 with 1 Axes>"
      ]
     },
     "metadata": {
      "needs_background": "light"
     },
     "output_type": "display_data"
    }
   ],
   "source": [
    "import seaborn as sns\n",
    "sns.scatterplot(Y_test, y_pred)"
   ]
  },
  {
   "cell_type": "markdown",
   "id": "8ecf0200",
   "metadata": {
    "execution": {
     "iopub.execute_input": "2021-12-18T15:45:15.47695Z",
     "iopub.status.busy": "2021-12-18T15:45:15.476674Z",
     "iopub.status.idle": "2021-12-18T15:45:15.482509Z",
     "shell.execute_reply": "2021-12-18T15:45:15.48123Z",
     "shell.execute_reply.started": "2021-12-18T15:45:15.476921Z"
    },
    "papermill": {
     "duration": 0.033387,
     "end_time": "2021-12-20T19:10:09.614824",
     "exception": false,
     "start_time": "2021-12-20T19:10:09.581437",
     "status": "completed"
    },
    "tags": []
   },
   "source": [
    "<h3>TheilSenRegressor</h3>"
   ]
  },
  {
   "cell_type": "code",
   "execution_count": 9,
   "id": "7b51bfdc",
   "metadata": {
    "execution": {
     "iopub.execute_input": "2021-12-20T19:10:09.685389Z",
     "iopub.status.busy": "2021-12-20T19:10:09.684719Z",
     "iopub.status.idle": "2021-12-20T19:10:10.000203Z",
     "shell.execute_reply": "2021-12-20T19:10:09.999678Z",
     "shell.execute_reply.started": "2021-12-20T18:58:37.993534Z"
    },
    "papermill": {
     "duration": 0.352005,
     "end_time": "2021-12-20T19:10:10.000337",
     "exception": false,
     "start_time": "2021-12-20T19:10:09.648332",
     "status": "completed"
    },
    "tags": []
   },
   "outputs": [
    {
     "name": "stdout",
     "output_type": "stream",
     "text": [
      "0.2592188634819972\n"
     ]
    }
   ],
   "source": [
    "from sklearn.linear_model import  TheilSenRegressor\n",
    "model = TheilSenRegressor()\n",
    "model.fit(X_train, Y_train)\n",
    "y_pred = model.predict(X_test)\n",
    "accuracy = model.score(X_test, Y_test)\n",
    "print(accuracy)"
   ]
  },
  {
   "cell_type": "markdown",
   "id": "cd283c8b",
   "metadata": {
    "papermill": {
     "duration": 0.033577,
     "end_time": "2021-12-20T19:10:10.067764",
     "exception": false,
     "start_time": "2021-12-20T19:10:10.034187",
     "status": "completed"
    },
    "tags": []
   },
   "source": [
    "<h3>RANSAC Regressor</h3>"
   ]
  },
  {
   "cell_type": "code",
   "execution_count": 10,
   "id": "894d9647",
   "metadata": {
    "execution": {
     "iopub.execute_input": "2021-12-20T19:10:10.139243Z",
     "iopub.status.busy": "2021-12-20T19:10:10.138628Z",
     "iopub.status.idle": "2021-12-20T19:10:10.159725Z",
     "shell.execute_reply": "2021-12-20T19:10:10.160242Z",
     "shell.execute_reply.started": "2021-12-20T18:58:38.466628Z"
    },
    "papermill": {
     "duration": 0.058922,
     "end_time": "2021-12-20T19:10:10.160408",
     "exception": false,
     "start_time": "2021-12-20T19:10:10.101486",
     "status": "completed"
    },
    "tags": []
   },
   "outputs": [
    {
     "name": "stdout",
     "output_type": "stream",
     "text": [
      "0.16945163570610655\n"
     ]
    }
   ],
   "source": [
    "from sklearn.linear_model import  RANSACRegressor\n",
    "model = RANSACRegressor()\n",
    "model.fit(X_train, Y_train)\n",
    "y_pred = model.predict(X_test)\n",
    "accuracy = model.score(X_test, Y_test)\n",
    "print(accuracy)"
   ]
  },
  {
   "cell_type": "markdown",
   "id": "c82a3726",
   "metadata": {
    "papermill": {
     "duration": 0.034233,
     "end_time": "2021-12-20T19:10:10.228693",
     "exception": false,
     "start_time": "2021-12-20T19:10:10.194460",
     "status": "completed"
    },
    "tags": []
   },
   "source": [
    "<h3>Huber Regressor</h3>"
   ]
  },
  {
   "cell_type": "code",
   "execution_count": 11,
   "id": "26b80a89",
   "metadata": {
    "execution": {
     "iopub.execute_input": "2021-12-20T19:10:10.302645Z",
     "iopub.status.busy": "2021-12-20T19:10:10.301685Z",
     "iopub.status.idle": "2021-12-20T19:10:10.318000Z",
     "shell.execute_reply": "2021-12-20T19:10:10.318532Z",
     "shell.execute_reply.started": "2021-12-20T18:58:38.502715Z"
    },
    "papermill": {
     "duration": 0.054568,
     "end_time": "2021-12-20T19:10:10.318698",
     "exception": false,
     "start_time": "2021-12-20T19:10:10.264130",
     "status": "completed"
    },
    "tags": []
   },
   "outputs": [
    {
     "name": "stdout",
     "output_type": "stream",
     "text": [
      "0.19631440058181449\n"
     ]
    }
   ],
   "source": [
    "from sklearn.linear_model import  HuberRegressor\n",
    "model = HuberRegressor()\n",
    "model.fit(X_train, Y_train)\n",
    "y_pred = model.predict(X_test)\n",
    "accuracy = model.score(X_test, Y_test)\n",
    "print(accuracy)"
   ]
  },
  {
   "cell_type": "code",
   "execution_count": 12,
   "id": "b3d4c86c",
   "metadata": {
    "execution": {
     "iopub.execute_input": "2021-12-20T19:10:10.392268Z",
     "iopub.status.busy": "2021-12-20T19:10:10.391346Z",
     "iopub.status.idle": "2021-12-20T19:10:10.396494Z",
     "shell.execute_reply": "2021-12-20T19:10:10.397088Z",
     "shell.execute_reply.started": "2021-12-20T18:58:38.533789Z"
    },
    "papermill": {
     "duration": 0.044018,
     "end_time": "2021-12-20T19:10:10.397257",
     "exception": false,
     "start_time": "2021-12-20T19:10:10.353239",
     "status": "completed"
    },
    "tags": []
   },
   "outputs": [
    {
     "data": {
      "text/plain": [
       "(144, 3)"
      ]
     },
     "execution_count": 12,
     "metadata": {},
     "output_type": "execute_result"
    }
   ],
   "source": [
    "df.shape"
   ]
  },
  {
   "cell_type": "markdown",
   "id": "0bf4b72c",
   "metadata": {
    "papermill": {
     "duration": 0.036852,
     "end_time": "2021-12-20T19:10:10.468866",
     "exception": false,
     "start_time": "2021-12-20T19:10:10.432014",
     "status": "completed"
    },
    "tags": []
   },
   "source": [
    "<h3>Gaussian Process Regressor</h3>"
   ]
  },
  {
   "cell_type": "code",
   "execution_count": 13,
   "id": "a1265655",
   "metadata": {
    "execution": {
     "iopub.execute_input": "2021-12-20T19:10:10.545708Z",
     "iopub.status.busy": "2021-12-20T19:10:10.544776Z",
     "iopub.status.idle": "2021-12-20T19:10:10.571194Z",
     "shell.execute_reply": "2021-12-20T19:10:10.572208Z",
     "shell.execute_reply.started": "2021-12-20T18:58:38.551077Z"
    },
    "papermill": {
     "duration": 0.06706,
     "end_time": "2021-12-20T19:10:10.572492",
     "exception": false,
     "start_time": "2021-12-20T19:10:10.505432",
     "status": "completed"
    },
    "tags": []
   },
   "outputs": [
    {
     "name": "stdout",
     "output_type": "stream",
     "text": [
      "0.2534476381503922\n"
     ]
    }
   ],
   "source": [
    "from sklearn.gaussian_process import GaussianProcessRegressor\n",
    "model = GaussianProcessRegressor()\n",
    "model.fit(X_train, Y_train)\n",
    "y_pred = model.predict(X_test)\n",
    "accuracy = model.score(X_test, Y_test)\n",
    "print(accuracy)"
   ]
  },
  {
   "cell_type": "markdown",
   "id": "7829bf02",
   "metadata": {
    "papermill": {
     "duration": 0.053061,
     "end_time": "2021-12-20T19:10:10.699266",
     "exception": false,
     "start_time": "2021-12-20T19:10:10.646205",
     "status": "completed"
    },
    "tags": []
   },
   "source": [
    "<h3>Support vector Regression</h3>"
   ]
  },
  {
   "cell_type": "code",
   "execution_count": 14,
   "id": "4c3d0199",
   "metadata": {
    "execution": {
     "iopub.execute_input": "2021-12-20T19:10:10.780530Z",
     "iopub.status.busy": "2021-12-20T19:10:10.779637Z",
     "iopub.status.idle": "2021-12-20T19:10:10.788982Z",
     "shell.execute_reply": "2021-12-20T19:10:10.788453Z",
     "shell.execute_reply.started": "2021-12-20T18:58:38.582282Z"
    },
    "papermill": {
     "duration": 0.051746,
     "end_time": "2021-12-20T19:10:10.789131",
     "exception": false,
     "start_time": "2021-12-20T19:10:10.737385",
     "status": "completed"
    },
    "tags": []
   },
   "outputs": [
    {
     "name": "stdout",
     "output_type": "stream",
     "text": [
      "-0.11004472955623723\n"
     ]
    }
   ],
   "source": [
    "from sklearn.model_selection import train_test_split\n",
    "from sklearn.model_selection import cross_val_score\n",
    "from sklearn.svm import SVR\n",
    "model = SVR()\n",
    "model.fit(X_train, Y_train)\n",
    "y_pred = model.predict(X_test)\n",
    "accuracy = model.score(X_test, Y_test)\n",
    "print(accuracy)"
   ]
  },
  {
   "cell_type": "markdown",
   "id": "704d2831",
   "metadata": {
    "papermill": {
     "duration": 0.035417,
     "end_time": "2021-12-20T19:10:10.861063",
     "exception": false,
     "start_time": "2021-12-20T19:10:10.825646",
     "status": "completed"
    },
    "tags": []
   },
   "source": [
    "<h3>Nu Support vector Regression</h3>"
   ]
  },
  {
   "cell_type": "code",
   "execution_count": 15,
   "id": "2afa9b41",
   "metadata": {
    "execution": {
     "iopub.execute_input": "2021-12-20T19:10:10.937437Z",
     "iopub.status.busy": "2021-12-20T19:10:10.936762Z",
     "iopub.status.idle": "2021-12-20T19:10:10.951551Z",
     "shell.execute_reply": "2021-12-20T19:10:10.952248Z",
     "shell.execute_reply.started": "2021-12-20T18:58:38.637430Z"
    },
    "papermill": {
     "duration": 0.054896,
     "end_time": "2021-12-20T19:10:10.952481",
     "exception": false,
     "start_time": "2021-12-20T19:10:10.897585",
     "status": "completed"
    },
    "tags": []
   },
   "outputs": [
    {
     "name": "stdout",
     "output_type": "stream",
     "text": [
      "-0.05207712389493335\n"
     ]
    }
   ],
   "source": [
    "from sklearn.svm import NuSVR\n",
    "X= df.iloc[:,1:3].values.astype(np.float64)\n",
    "y = df.iloc[:, 0].values.astype(np.float64)\n",
    "model = NuSVR()\n",
    "model.fit(X_train, Y_train)\n",
    "y_pred = model.predict(X_test)\n",
    "accuracy = model.score(X_test, Y_test)\n",
    "score = model.score(X_train, Y_train)\n",
    "print(accuracy)"
   ]
  },
  {
   "cell_type": "markdown",
   "id": "ac2b8d02",
   "metadata": {
    "papermill": {
     "duration": 0.036961,
     "end_time": "2021-12-20T19:10:11.027248",
     "exception": false,
     "start_time": "2021-12-20T19:10:10.990287",
     "status": "completed"
    },
    "tags": []
   },
   "source": [
    "<h3>KNN Regression</h3>"
   ]
  },
  {
   "cell_type": "code",
   "execution_count": 16,
   "id": "c6430bef",
   "metadata": {
    "execution": {
     "iopub.execute_input": "2021-12-20T19:10:11.103037Z",
     "iopub.status.busy": "2021-12-20T19:10:11.102444Z",
     "iopub.status.idle": "2021-12-20T19:10:11.173313Z",
     "shell.execute_reply": "2021-12-20T19:10:11.172502Z",
     "shell.execute_reply.started": "2021-12-20T18:58:38.693958Z"
    },
    "papermill": {
     "duration": 0.110363,
     "end_time": "2021-12-20T19:10:11.173499",
     "exception": false,
     "start_time": "2021-12-20T19:10:11.063136",
     "status": "completed"
    },
    "tags": []
   },
   "outputs": [
    {
     "name": "stdout",
     "output_type": "stream",
     "text": [
      "0.6487614667603532\n"
     ]
    }
   ],
   "source": [
    "from sklearn.neighbors import KNeighborsRegressor\n",
    "X= df.iloc[:,1:3].values.astype(np.float64)\n",
    "y = df.iloc[:, 0].values.astype(np.float64)\n",
    "X_train, X_test, y_train, y_test = train_test_split(X, y, test_size = 0.25, random_state = 0)\n",
    "model = KNeighborsRegressor(n_neighbors = 10)\n",
    "model.fit(X_train, y_train)\n",
    "y_pred = model.predict(X_test)\n",
    "accuracy = model.score(X_test, y_test)\n",
    "score = model.score(X_train, y_train)\n",
    "print(accuracy)\n"
   ]
  },
  {
   "cell_type": "markdown",
   "id": "d514afef",
   "metadata": {
    "papermill": {
     "duration": 0.035344,
     "end_time": "2021-12-20T19:10:11.244906",
     "exception": false,
     "start_time": "2021-12-20T19:10:11.209562",
     "status": "completed"
    },
    "tags": []
   },
   "source": [
    "<h3>Random Forest</h3>"
   ]
  },
  {
   "cell_type": "code",
   "execution_count": 17,
   "id": "499c8f83",
   "metadata": {
    "execution": {
     "iopub.execute_input": "2021-12-20T19:10:11.324159Z",
     "iopub.status.busy": "2021-12-20T19:10:11.323332Z",
     "iopub.status.idle": "2021-12-20T19:10:11.505434Z",
     "shell.execute_reply": "2021-12-20T19:10:11.504770Z",
     "shell.execute_reply.started": "2021-12-20T18:58:38.739115Z"
    },
    "papermill": {
     "duration": 0.224167,
     "end_time": "2021-12-20T19:10:11.505571",
     "exception": false,
     "start_time": "2021-12-20T19:10:11.281404",
     "status": "completed"
    },
    "tags": []
   },
   "outputs": [
    {
     "name": "stdout",
     "output_type": "stream",
     "text": [
      "0.664546982872501\n"
     ]
    }
   ],
   "source": [
    "from sklearn.ensemble import RandomForestRegressor\n",
    "regressor = RandomForestRegressor(n_estimators = 100, random_state = 0)\n",
    "regressor.fit(X_train, y_train)  \n",
    "y_pred = regressor.predict(X_test)\n",
    "accuracy = regressor.score(X_test, y_test)\n",
    "score = regressor.score(X_train, y_train)\n",
    "print(accuracy)\n"
   ]
  },
  {
   "cell_type": "markdown",
   "id": "c5442167",
   "metadata": {
    "papermill": {
     "duration": 0.035995,
     "end_time": "2021-12-20T19:10:11.577741",
     "exception": false,
     "start_time": "2021-12-20T19:10:11.541746",
     "status": "completed"
    },
    "tags": []
   },
   "source": [
    "<h3>Decision Tree</h3>"
   ]
  },
  {
   "cell_type": "code",
   "execution_count": 18,
   "id": "f7566b56",
   "metadata": {
    "execution": {
     "iopub.execute_input": "2021-12-20T19:10:11.655326Z",
     "iopub.status.busy": "2021-12-20T19:10:11.651842Z",
     "iopub.status.idle": "2021-12-20T19:10:11.660679Z",
     "shell.execute_reply": "2021-12-20T19:10:11.660232Z",
     "shell.execute_reply.started": "2021-12-20T18:58:39.002592Z"
    },
    "papermill": {
     "duration": 0.047321,
     "end_time": "2021-12-20T19:10:11.660842",
     "exception": false,
     "start_time": "2021-12-20T19:10:11.613521",
     "status": "completed"
    },
    "tags": []
   },
   "outputs": [
    {
     "name": "stdout",
     "output_type": "stream",
     "text": [
      "0.6268948623371123\n"
     ]
    }
   ],
   "source": [
    "from sklearn.tree import DecisionTreeRegressor \n",
    "regressor = DecisionTreeRegressor(random_state = 0) \n",
    "regressor.fit(X_train, y_train)\n",
    "y_pred = regressor.predict(X_test)\n",
    "accuracy = regressor.score(X_test, y_test)\n",
    "score = regressor.score(X_train, y_train)\n",
    "print(accuracy)"
   ]
  },
  {
   "cell_type": "markdown",
   "id": "15f78e24",
   "metadata": {
    "papermill": {
     "duration": 0.037791,
     "end_time": "2021-12-20T19:10:11.734917",
     "exception": false,
     "start_time": "2021-12-20T19:10:11.697126",
     "status": "completed"
    },
    "tags": []
   },
   "source": [
    "<h3>Extra Trees</h3>"
   ]
  },
  {
   "cell_type": "code",
   "execution_count": 19,
   "id": "2f6498ee",
   "metadata": {
    "execution": {
     "iopub.execute_input": "2021-12-20T19:10:11.811882Z",
     "iopub.status.busy": "2021-12-20T19:10:11.811235Z",
     "iopub.status.idle": "2021-12-20T19:10:11.910991Z",
     "shell.execute_reply": "2021-12-20T19:10:11.911458Z",
     "shell.execute_reply.started": "2021-12-20T18:58:39.015468Z"
    },
    "papermill": {
     "duration": 0.13951,
     "end_time": "2021-12-20T19:10:11.911623",
     "exception": false,
     "start_time": "2021-12-20T19:10:11.772113",
     "status": "completed"
    },
    "tags": []
   },
   "outputs": [
    {
     "name": "stdout",
     "output_type": "stream",
     "text": [
      "0.633984153459358\n"
     ]
    }
   ],
   "source": [
    "from sklearn.ensemble import ExtraTreesRegressor\n",
    "regressor = ExtraTreesRegressor(random_state = 0) \n",
    "regressor.fit(X_train, y_train)\n",
    "y_pred = regressor.predict(X_test)\n",
    "accuracy = regressor.score(X_test, y_test)\n",
    "score = regressor.score(X_train, y_train)\n",
    "print(accuracy)\n"
   ]
  },
  {
   "cell_type": "markdown",
   "id": "fa2aa6f3",
   "metadata": {
    "papermill": {
     "duration": 0.03659,
     "end_time": "2021-12-20T19:10:11.985027",
     "exception": false,
     "start_time": "2021-12-20T19:10:11.948437",
     "status": "completed"
    },
    "tags": []
   },
   "source": [
    "<h3>Adaboost</h3>"
   ]
  },
  {
   "cell_type": "code",
   "execution_count": 20,
   "id": "5784b2d6",
   "metadata": {
    "execution": {
     "iopub.execute_input": "2021-12-20T19:10:12.061928Z",
     "iopub.status.busy": "2021-12-20T19:10:12.061293Z",
     "iopub.status.idle": "2021-12-20T19:10:12.076440Z",
     "shell.execute_reply": "2021-12-20T19:10:12.076907Z",
     "shell.execute_reply.started": "2021-12-20T18:58:39.187052Z"
    },
    "papermill": {
     "duration": 0.054788,
     "end_time": "2021-12-20T19:10:12.077071",
     "exception": false,
     "start_time": "2021-12-20T19:10:12.022283",
     "status": "completed"
    },
    "tags": []
   },
   "outputs": [
    {
     "name": "stdout",
     "output_type": "stream",
     "text": [
      "0.5970721131262751\n"
     ]
    }
   ],
   "source": [
    "from sklearn.ensemble import AdaBoostRegressor\n",
    "regressor =AdaBoostRegressor(random_state = 0) \n",
    "regressor.fit(X_train, y_train)\n",
    "y_pred = regressor.predict(X_test)\n",
    "accuracy = regressor.score(X_test, y_test)\n",
    "score = regressor.score(X_train, y_train)\n",
    "print(accuracy)\n"
   ]
  },
  {
   "cell_type": "markdown",
   "id": "c346040a",
   "metadata": {
    "papermill": {
     "duration": 0.037136,
     "end_time": "2021-12-20T19:10:12.151859",
     "exception": false,
     "start_time": "2021-12-20T19:10:12.114723",
     "status": "completed"
    },
    "tags": []
   },
   "source": [
    "<h3>Passive Aggressive Regressor</h3>"
   ]
  },
  {
   "cell_type": "code",
   "execution_count": 21,
   "id": "1a8c55ea",
   "metadata": {
    "execution": {
     "iopub.execute_input": "2021-12-20T19:10:12.228278Z",
     "iopub.status.busy": "2021-12-20T19:10:12.227645Z",
     "iopub.status.idle": "2021-12-20T19:10:12.235896Z",
     "shell.execute_reply": "2021-12-20T19:10:12.236458Z",
     "shell.execute_reply.started": "2021-12-20T18:58:39.218385Z"
    },
    "papermill": {
     "duration": 0.048066,
     "end_time": "2021-12-20T19:10:12.236623",
     "exception": false,
     "start_time": "2021-12-20T19:10:12.188557",
     "status": "completed"
    },
    "tags": []
   },
   "outputs": [
    {
     "name": "stdout",
     "output_type": "stream",
     "text": [
      "0.636834900062393\n"
     ]
    }
   ],
   "source": [
    "from sklearn.linear_model import PassiveAggressiveRegressor\n",
    "regressor =PassiveAggressiveRegressor(random_state = 0) \n",
    "regressor.fit(X_train, y_train)\n",
    "y_pred = regressor.predict(X_test)\n",
    "accuracy = regressor.score(X_test, y_test)\n",
    "score = regressor.score(X_train, y_train)\n",
    "print(accuracy)"
   ]
  },
  {
   "cell_type": "markdown",
   "id": "01c27966",
   "metadata": {
    "papermill": {
     "duration": 0.037763,
     "end_time": "2021-12-20T19:10:12.311128",
     "exception": false,
     "start_time": "2021-12-20T19:10:12.273365",
     "status": "completed"
    },
    "tags": []
   },
   "source": [
    "<h3>Bagging Regressor</h3>"
   ]
  },
  {
   "cell_type": "code",
   "execution_count": 22,
   "id": "2ec64803",
   "metadata": {
    "execution": {
     "iopub.execute_input": "2021-12-20T19:10:12.390497Z",
     "iopub.status.busy": "2021-12-20T19:10:12.389561Z",
     "iopub.status.idle": "2021-12-20T19:10:12.415929Z",
     "shell.execute_reply": "2021-12-20T19:10:12.416710Z",
     "shell.execute_reply.started": "2021-12-20T18:58:39.234000Z"
    },
    "papermill": {
     "duration": 0.067225,
     "end_time": "2021-12-20T19:10:12.416899",
     "exception": false,
     "start_time": "2021-12-20T19:10:12.349674",
     "status": "completed"
    },
    "tags": []
   },
   "outputs": [
    {
     "name": "stdout",
     "output_type": "stream",
     "text": [
      "0.6477961888727249\n"
     ]
    }
   ],
   "source": [
    "from sklearn.ensemble import BaggingRegressor\n",
    "regressor =BaggingRegressor(random_state = 0) \n",
    "regressor.fit(X_train, y_train)\n",
    "y_pred = regressor.predict(X_test)\n",
    "accuracy = regressor.score(X_test, y_test)\n",
    "score = regressor.score(X_train, y_train)\n",
    "print(accuracy)"
   ]
  },
  {
   "cell_type": "markdown",
   "id": "61d84df4",
   "metadata": {
    "papermill": {
     "duration": 0.037054,
     "end_time": "2021-12-20T19:10:12.491284",
     "exception": false,
     "start_time": "2021-12-20T19:10:12.454230",
     "status": "completed"
    },
    "tags": []
   },
   "source": [
    "<h3>Gradient Boosting Regressor</h3>"
   ]
  },
  {
   "cell_type": "code",
   "execution_count": 23,
   "id": "4c05f917",
   "metadata": {
    "execution": {
     "iopub.execute_input": "2021-12-20T19:10:12.569027Z",
     "iopub.status.busy": "2021-12-20T19:10:12.568405Z",
     "iopub.status.idle": "2021-12-20T19:10:12.598849Z",
     "shell.execute_reply": "2021-12-20T19:10:12.599510Z",
     "shell.execute_reply.started": "2021-12-20T18:58:39.278464Z"
    },
    "papermill": {
     "duration": 0.070891,
     "end_time": "2021-12-20T19:10:12.599746",
     "exception": false,
     "start_time": "2021-12-20T19:10:12.528855",
     "status": "completed"
    },
    "tags": []
   },
   "outputs": [
    {
     "name": "stdout",
     "output_type": "stream",
     "text": [
      "0.6312689133793973\n"
     ]
    }
   ],
   "source": [
    "from sklearn.ensemble import GradientBoostingRegressor\n",
    "regressor = GradientBoostingRegressor(random_state = 0) \n",
    "regressor.fit(X_train, y_train)\n",
    "y_pred = regressor.predict(X_test)\n",
    "accuracy = regressor.score(X_test, y_test)\n",
    "score = regressor.score(X_train, y_train)\n",
    "print(accuracy)"
   ]
  },
  {
   "cell_type": "markdown",
   "id": "7d7287b8",
   "metadata": {
    "papermill": {
     "duration": 0.037843,
     "end_time": "2021-12-20T19:10:12.677425",
     "exception": false,
     "start_time": "2021-12-20T19:10:12.639582",
     "status": "completed"
    },
    "tags": []
   },
   "source": [
    "<h3>XGBoost</h3>"
   ]
  },
  {
   "cell_type": "code",
   "execution_count": 24,
   "id": "9167d984",
   "metadata": {
    "execution": {
     "iopub.execute_input": "2021-12-20T19:10:12.757107Z",
     "iopub.status.busy": "2021-12-20T19:10:12.756450Z",
     "iopub.status.idle": "2021-12-20T19:10:20.575130Z",
     "shell.execute_reply": "2021-12-20T19:10:20.575656Z",
     "shell.execute_reply.started": "2021-12-20T18:58:39.324937Z"
    },
    "papermill": {
     "duration": 7.860488,
     "end_time": "2021-12-20T19:10:20.575901",
     "exception": false,
     "start_time": "2021-12-20T19:10:12.715413",
     "status": "completed"
    },
    "tags": []
   },
   "outputs": [
    {
     "name": "stdout",
     "output_type": "stream",
     "text": [
      "[19:10:12] WARNING: ../src/learner.cc:576: \n",
      "Parameters: { \"silent\" } might not be used.\n",
      "\n",
      "  This could be a false alarm, with some parameters getting used by language bindings but\n",
      "  then being mistakenly passed down to XGBoost core, or some parameter actually being used\n",
      "  but getting flagged wrongly here. Please open an issue if you find any such cases.\n",
      "\n",
      "\n"
     ]
    },
    {
     "data": {
      "text/plain": [
       "0.4260879587243205"
      ]
     },
     "execution_count": 24,
     "metadata": {},
     "output_type": "execute_result"
    }
   ],
   "source": [
    "import xgboost as xgb\n",
    "model_xgb = xgb.XGBRegressor(colsample_bytree=0.4603, gamma=0.0468, \n",
    "                             learning_rate=0.05, max_depth=3, \n",
    "                             min_child_weight=1.7817, n_estimators=2200,\n",
    "                             reg_alpha=0.4640, reg_lambda=0.8571,\n",
    "                             subsample=0.5213, silent=1,\n",
    "                             random_state =7, nthread = -1)\n",
    "model_xgb.fit(X,y)\n",
    "r2_score(model_xgb.predict(X), y)"
   ]
  },
  {
   "cell_type": "code",
   "execution_count": 25,
   "id": "1cf16935",
   "metadata": {
    "execution": {
     "iopub.execute_input": "2021-12-20T19:10:20.660061Z",
     "iopub.status.busy": "2021-12-20T19:10:20.659391Z",
     "iopub.status.idle": "2021-12-20T19:10:21.015992Z",
     "shell.execute_reply": "2021-12-20T19:10:21.015358Z",
     "shell.execute_reply.started": "2021-12-20T18:58:47.623833Z"
    },
    "papermill": {
     "duration": 0.40139,
     "end_time": "2021-12-20T19:10:21.016139",
     "exception": false,
     "start_time": "2021-12-20T19:10:20.614749",
     "status": "completed"
    },
    "tags": []
   },
   "outputs": [
    {
     "name": "stdout",
     "output_type": "stream",
     "text": [
      "0:\tlearn: 22775.0134344\ttotal: 49.6ms\tremaining: 24.8s\n",
      "50:\tlearn: 14435.4628710\ttotal: 53.3ms\tremaining: 469ms\n",
      "100:\tlearn: 13593.2232511\ttotal: 56.7ms\tremaining: 224ms\n",
      "150:\tlearn: 13304.6339468\ttotal: 60.8ms\tremaining: 140ms\n",
      "200:\tlearn: 13189.7442923\ttotal: 65.5ms\tremaining: 97.4ms\n",
      "250:\tlearn: 13145.4192659\ttotal: 70.3ms\tremaining: 69.7ms\n",
      "300:\tlearn: 13134.4133975\ttotal: 77.6ms\tremaining: 51.3ms\n",
      "350:\tlearn: 13131.6685655\ttotal: 83.8ms\tremaining: 35.6ms\n",
      "400:\tlearn: 13130.7737561\ttotal: 89.7ms\tremaining: 22.1ms\n",
      "450:\tlearn: 13130.2638630\ttotal: 96.1ms\tremaining: 10.4ms\n",
      "499:\tlearn: 13130.0723279\ttotal: 103ms\tremaining: 0us\n"
     ]
    },
    {
     "data": {
      "text/plain": [
       "0.5368361327283495"
      ]
     },
     "execution_count": 25,
     "metadata": {},
     "output_type": "execute_result"
    }
   ],
   "source": [
    "from catboost import CatBoostRegressor\n",
    "cb_model = CatBoostRegressor(iterations=500,\n",
    "                             learning_rate=0.05,\n",
    "                             depth=10,\n",
    "                             random_seed = 42,\n",
    "                             bagging_temperature = 0.2,\n",
    "                             od_type='Iter',\n",
    "                             metric_period = 50,\n",
    "                             od_wait=20)\n",
    "cb_model.fit(X, y)\n",
    "r2_score(cb_model.predict(X), y)"
   ]
  },
  {
   "cell_type": "markdown",
   "id": "b682a795",
   "metadata": {
    "papermill": {
     "duration": 0.040977,
     "end_time": "2021-12-20T19:10:21.095537",
     "exception": false,
     "start_time": "2021-12-20T19:10:21.054560",
     "status": "completed"
    },
    "tags": []
   },
   "source": [
    "<h3>Stochastic Gradient Descent</h3>"
   ]
  },
  {
   "cell_type": "code",
   "execution_count": 26,
   "id": "a501bc00",
   "metadata": {
    "execution": {
     "iopub.execute_input": "2021-12-20T19:10:21.183412Z",
     "iopub.status.busy": "2021-12-20T19:10:21.182768Z",
     "iopub.status.idle": "2021-12-20T19:10:21.186972Z",
     "shell.execute_reply": "2021-12-20T19:10:21.186485Z",
     "shell.execute_reply.started": "2021-12-20T18:58:47.853185Z"
    },
    "papermill": {
     "duration": 0.051645,
     "end_time": "2021-12-20T19:10:21.187126",
     "exception": false,
     "start_time": "2021-12-20T19:10:21.135481",
     "status": "completed"
    },
    "tags": []
   },
   "outputs": [
    {
     "data": {
      "text/plain": [
       "0.43448421921103864"
      ]
     },
     "execution_count": 26,
     "metadata": {},
     "output_type": "execute_result"
    }
   ],
   "source": [
    "from sklearn.linear_model import SGDRegressor\n",
    "SGD = SGDRegressor(max_iter = 100)\n",
    "SGD.fit(X, Y)\n",
    "r2_score(SGD.predict(X), Y)"
   ]
  },
  {
   "cell_type": "markdown",
   "id": "9a9dd621",
   "metadata": {
    "execution": {
     "iopub.execute_input": "2021-12-19T18:58:28.151328Z",
     "iopub.status.busy": "2021-12-19T18:58:28.151012Z",
     "iopub.status.idle": "2021-12-19T18:58:28.15637Z",
     "shell.execute_reply": "2021-12-19T18:58:28.155021Z",
     "shell.execute_reply.started": "2021-12-19T18:58:28.151296Z"
    },
    "papermill": {
     "duration": 0.038832,
     "end_time": "2021-12-20T19:10:21.267090",
     "exception": false,
     "start_time": "2021-12-20T19:10:21.228258",
     "status": "completed"
    },
    "tags": []
   },
   "source": [
    "<h3>Lasso</h3>"
   ]
  },
  {
   "cell_type": "code",
   "execution_count": 27,
   "id": "82390da9",
   "metadata": {
    "execution": {
     "iopub.execute_input": "2021-12-20T19:10:21.352840Z",
     "iopub.status.busy": "2021-12-20T19:10:21.352156Z",
     "iopub.status.idle": "2021-12-20T19:10:21.364121Z",
     "shell.execute_reply": "2021-12-20T19:10:21.364588Z",
     "shell.execute_reply.started": "2021-12-20T18:58:47.866169Z"
    },
    "papermill": {
     "duration": 0.057801,
     "end_time": "2021-12-20T19:10:21.364761",
     "exception": false,
     "start_time": "2021-12-20T19:10:21.306960",
     "status": "completed"
    },
    "tags": []
   },
   "outputs": [
    {
     "data": {
      "text/plain": [
       "0.40250280991401666"
      ]
     },
     "execution_count": 27,
     "metadata": {},
     "output_type": "execute_result"
    }
   ],
   "source": [
    "from sklearn.linear_model import ElasticNet, Lasso,  BayesianRidge, LassoLarsIC\n",
    "from sklearn.pipeline import make_pipeline\n",
    "from sklearn.preprocessing import RobustScaler\n",
    "lasso = make_pipeline(RobustScaler(), Lasso(alpha =0.0005, random_state=1))\n",
    "lasso.fit(X, Y)\n",
    "r2_score(lasso.predict(X), Y)"
   ]
  },
  {
   "cell_type": "markdown",
   "id": "45083016",
   "metadata": {
    "papermill": {
     "duration": 0.03861,
     "end_time": "2021-12-20T19:10:21.442373",
     "exception": false,
     "start_time": "2021-12-20T19:10:21.403763",
     "status": "completed"
    },
    "tags": []
   },
   "source": [
    "<h3>Kernel Ridge Regression</h3>"
   ]
  },
  {
   "cell_type": "markdown",
   "id": "02ae9bc4",
   "metadata": {
    "papermill": {
     "duration": 0.038686,
     "end_time": "2021-12-20T19:10:21.519843",
     "exception": false,
     "start_time": "2021-12-20T19:10:21.481157",
     "status": "completed"
    },
    "tags": []
   },
   "source": [
    "<p>Useful for small datasets (less than 100 samples,so split the dataset)</p> "
   ]
  },
  {
   "cell_type": "code",
   "execution_count": 28,
   "id": "4aa37242",
   "metadata": {
    "execution": {
     "iopub.execute_input": "2021-12-20T19:10:21.606540Z",
     "iopub.status.busy": "2021-12-20T19:10:21.605873Z",
     "iopub.status.idle": "2021-12-20T19:10:21.618265Z",
     "shell.execute_reply": "2021-12-20T19:10:21.617601Z",
     "shell.execute_reply.started": "2021-12-20T18:58:47.890435Z"
    },
    "papermill": {
     "duration": 0.058442,
     "end_time": "2021-12-20T19:10:21.618404",
     "exception": false,
     "start_time": "2021-12-20T19:10:21.559962",
     "status": "completed"
    },
    "tags": []
   },
   "outputs": [
    {
     "data": {
      "text/html": [
       "<div>\n",
       "<style scoped>\n",
       "    .dataframe tbody tr th:only-of-type {\n",
       "        vertical-align: middle;\n",
       "    }\n",
       "\n",
       "    .dataframe tbody tr th {\n",
       "        vertical-align: top;\n",
       "    }\n",
       "\n",
       "    .dataframe thead th {\n",
       "        text-align: right;\n",
       "    }\n",
       "</style>\n",
       "<table border=\"1\" class=\"dataframe\">\n",
       "  <thead>\n",
       "    <tr style=\"text-align: right;\">\n",
       "      <th></th>\n",
       "      <th>Price</th>\n",
       "      <th>Screensize (Inch)</th>\n",
       "      <th>Memory (GB)</th>\n",
       "    </tr>\n",
       "  </thead>\n",
       "  <tbody>\n",
       "    <tr>\n",
       "      <th>0</th>\n",
       "      <td>54990</td>\n",
       "      <td>15.6</td>\n",
       "      <td>8</td>\n",
       "    </tr>\n",
       "    <tr>\n",
       "      <th>1</th>\n",
       "      <td>13500</td>\n",
       "      <td>10.1</td>\n",
       "      <td>2</td>\n",
       "    </tr>\n",
       "    <tr>\n",
       "      <th>2</th>\n",
       "      <td>23990</td>\n",
       "      <td>15.6</td>\n",
       "      <td>4</td>\n",
       "    </tr>\n",
       "    <tr>\n",
       "      <th>3</th>\n",
       "      <td>61369</td>\n",
       "      <td>15.6</td>\n",
       "      <td>8</td>\n",
       "    </tr>\n",
       "    <tr>\n",
       "      <th>4</th>\n",
       "      <td>57990</td>\n",
       "      <td>15.6</td>\n",
       "      <td>8</td>\n",
       "    </tr>\n",
       "  </tbody>\n",
       "</table>\n",
       "</div>"
      ],
      "text/plain": [
       "   Price Screensize (Inch) Memory (GB)\n",
       "0  54990              15.6           8\n",
       "1  13500              10.1           2\n",
       "2  23990              15.6           4\n",
       "3  61369              15.6           8\n",
       "4  57990              15.6           8"
      ]
     },
     "execution_count": 28,
     "metadata": {},
     "output_type": "execute_result"
    }
   ],
   "source": [
    "dfs=df.iloc[:90,:]\n",
    "dfs.head()"
   ]
  },
  {
   "cell_type": "code",
   "execution_count": 29,
   "id": "b3ff28b6",
   "metadata": {
    "execution": {
     "iopub.execute_input": "2021-12-20T19:10:21.709205Z",
     "iopub.status.busy": "2021-12-20T19:10:21.708265Z",
     "iopub.status.idle": "2021-12-20T19:10:21.728388Z",
     "shell.execute_reply": "2021-12-20T19:10:21.729035Z",
     "shell.execute_reply.started": "2021-12-20T18:58:47.907448Z"
    },
    "papermill": {
     "duration": 0.066265,
     "end_time": "2021-12-20T19:10:21.729344",
     "exception": false,
     "start_time": "2021-12-20T19:10:21.663079",
     "status": "completed"
    },
    "tags": []
   },
   "outputs": [
    {
     "data": {
      "text/plain": [
       "0.4515734552339338"
      ]
     },
     "execution_count": 29,
     "metadata": {},
     "output_type": "execute_result"
    }
   ],
   "source": [
    "from sklearn.kernel_ridge import KernelRidge\n",
    "from sklearn.pipeline import make_pipeline\n",
    "from sklearn.preprocessing import RobustScaler\n",
    "KRR = KernelRidge(alpha=0.6, kernel='polynomial', degree=2, coef0=2.5)\n",
    "KRR.fit(X, y)\n",
    "r2_score(KRR.predict(X), y)"
   ]
  },
  {
   "cell_type": "markdown",
   "id": "8ec95e0a",
   "metadata": {
    "papermill": {
     "duration": 0.054741,
     "end_time": "2021-12-20T19:10:21.867158",
     "exception": false,
     "start_time": "2021-12-20T19:10:21.812417",
     "status": "completed"
    },
    "tags": []
   },
   "source": [
    "<h3>BayesianRidge</h3>"
   ]
  },
  {
   "cell_type": "code",
   "execution_count": 30,
   "id": "6552f7e4",
   "metadata": {
    "execution": {
     "iopub.execute_input": "2021-12-20T19:10:21.954893Z",
     "iopub.status.busy": "2021-12-20T19:10:21.954253Z",
     "iopub.status.idle": "2021-12-20T19:10:21.960170Z",
     "shell.execute_reply": "2021-12-20T19:10:21.959729Z",
     "shell.execute_reply.started": "2021-12-20T18:58:47.933284Z"
    },
    "papermill": {
     "duration": 0.052815,
     "end_time": "2021-12-20T19:10:21.960313",
     "exception": false,
     "start_time": "2021-12-20T19:10:21.907498",
     "status": "completed"
    },
    "tags": []
   },
   "outputs": [
    {
     "data": {
      "text/plain": [
       "0.3924757284719931"
      ]
     },
     "execution_count": 30,
     "metadata": {},
     "output_type": "execute_result"
    }
   ],
   "source": [
    "from sklearn.linear_model  import BayesianRidge\n",
    "from sklearn.pipeline import make_pipeline\n",
    "from sklearn.preprocessing import RobustScaler\n",
    "BR = BayesianRidge()\n",
    "BR.fit(X, y)\n",
    "r2_score(BR.predict(X), y)"
   ]
  },
  {
   "cell_type": "markdown",
   "id": "0ea84e79",
   "metadata": {
    "papermill": {
     "duration": 0.039115,
     "end_time": "2021-12-20T19:10:22.040349",
     "exception": false,
     "start_time": "2021-12-20T19:10:22.001234",
     "status": "completed"
    },
    "tags": []
   },
   "source": [
    "<h3>Elastic Net Regression</h3>"
   ]
  },
  {
   "cell_type": "code",
   "execution_count": 31,
   "id": "9489a9cb",
   "metadata": {
    "execution": {
     "iopub.execute_input": "2021-12-20T19:10:22.127617Z",
     "iopub.status.busy": "2021-12-20T19:10:22.126993Z",
     "iopub.status.idle": "2021-12-20T19:10:22.134578Z",
     "shell.execute_reply": "2021-12-20T19:10:22.134120Z",
     "shell.execute_reply.started": "2021-12-20T18:58:47.952283Z"
    },
    "papermill": {
     "duration": 0.054346,
     "end_time": "2021-12-20T19:10:22.134716",
     "exception": false,
     "start_time": "2021-12-20T19:10:22.080370",
     "status": "completed"
    },
    "tags": []
   },
   "outputs": [
    {
     "data": {
      "text/plain": [
       "0.4024101973091585"
      ]
     },
     "execution_count": 31,
     "metadata": {},
     "output_type": "execute_result"
    }
   ],
   "source": [
    "from sklearn.linear_model import ElasticNet, Lasso,  BayesianRidge, LassoLarsIC\n",
    "from sklearn.pipeline import make_pipeline\n",
    "from sklearn.preprocessing import RobustScaler\n",
    "ENet = make_pipeline(RobustScaler(), ElasticNet(alpha=0.0005, l1_ratio=.9, random_state=3))\n",
    "ENet.fit(X, y)\n",
    "r2_score(ENet.predict(X), y)"
   ]
  },
  {
   "cell_type": "markdown",
   "id": "0d4a43bb",
   "metadata": {
    "papermill": {
     "duration": 0.040042,
     "end_time": "2021-12-20T19:10:22.215112",
     "exception": false,
     "start_time": "2021-12-20T19:10:22.175070",
     "status": "completed"
    },
    "tags": []
   },
   "source": [
    "<h3>K-Means Algorithm</h3>"
   ]
  },
  {
   "cell_type": "code",
   "execution_count": 32,
   "id": "499a0833",
   "metadata": {
    "execution": {
     "iopub.execute_input": "2021-12-20T19:10:22.302557Z",
     "iopub.status.busy": "2021-12-20T19:10:22.301886Z",
     "iopub.status.idle": "2021-12-20T19:10:22.854867Z",
     "shell.execute_reply": "2021-12-20T19:10:22.855347Z",
     "shell.execute_reply.started": "2021-12-20T18:58:47.979956Z"
    },
    "papermill": {
     "duration": 0.599542,
     "end_time": "2021-12-20T19:10:22.855512",
     "exception": false,
     "start_time": "2021-12-20T19:10:22.255970",
     "status": "completed"
    },
    "tags": []
   },
   "outputs": [
    {
     "name": "stderr",
     "output_type": "stream",
     "text": [
      "/opt/conda/lib/python3.7/site-packages/ipykernel_launcher.py:6: ConvergenceWarning: Number of distinct clusters (6) found smaller than n_clusters (7). Possibly due to duplicate points in X.\n",
      "  \n"
     ]
    },
    {
     "data": {
      "image/png": "[encoded data removed]",
      "text/plain": [
       "<Figure size 432x288 with 1 Axes>"
      ]
     },
     "metadata": {
      "needs_background": "light"
     },
     "output_type": "display_data"
    }
   ],
   "source": [
    "from sklearn.cluster import KMeans\n",
    "K_clusters = range(1,8)\n",
    "kmeans = [KMeans(n_clusters=i) for i in K_clusters]\n",
    "Y_axis = df[['Screensize (Inch)']]\n",
    "X_axis = df[['Memory (GB)']]\n",
    "score = [kmeans[i].fit(Y_axis).score(Y_axis) for i in range(len(kmeans))]\n",
    "plt.plot(K_clusters, score)\n",
    "plt.xlabel('Number of Clusters')\n",
    "plt.ylabel('Score')\n",
    "plt.show()"
   ]
  },
  {
   "cell_type": "code",
   "execution_count": 33,
   "id": "e8271246",
   "metadata": {
    "execution": {
     "iopub.execute_input": "2021-12-20T19:10:22.951715Z",
     "iopub.status.busy": "2021-12-20T19:10:22.950740Z",
     "iopub.status.idle": "2021-12-20T19:10:22.995554Z",
     "shell.execute_reply": "2021-12-20T19:10:22.995084Z",
     "shell.execute_reply.started": "2021-12-20T18:58:48.572732Z"
    },
    "papermill": {
     "duration": 0.095761,
     "end_time": "2021-12-20T19:10:22.995696",
     "exception": false,
     "start_time": "2021-12-20T19:10:22.899935",
     "status": "completed"
    },
    "tags": []
   },
   "outputs": [
    {
     "data": {
      "text/plain": [
       "array([0, 2, 1], dtype=int32)"
      ]
     },
     "execution_count": 33,
     "metadata": {},
     "output_type": "execute_result"
    }
   ],
   "source": [
    "kmeans = KMeans(n_clusters = 3, init ='k-means++')\n",
    "kmeans.fit(df[df.columns[1:3]])\n",
    "df['cluster_label'] = kmeans.fit_predict(df[df.columns[1:3]])\n",
    "centers = kmeans.cluster_centers_\n",
    "labels = kmeans.predict(df[df.columns[1:3]])\n",
    "df.cluster_label.unique()"
   ]
  },
  {
   "cell_type": "code",
   "execution_count": 34,
   "id": "e04e24e5",
   "metadata": {
    "execution": {
     "iopub.execute_input": "2021-12-20T19:10:23.084527Z",
     "iopub.status.busy": "2021-12-20T19:10:23.083785Z",
     "iopub.status.idle": "2021-12-20T19:10:23.393987Z",
     "shell.execute_reply": "2021-12-20T19:10:23.393469Z",
     "shell.execute_reply.started": "2021-12-20T18:58:48.645945Z"
    },
    "papermill": {
     "duration": 0.35727,
     "end_time": "2021-12-20T19:10:23.394150",
     "exception": false,
     "start_time": "2021-12-20T19:10:23.036880",
     "status": "completed"
    },
    "tags": []
   },
   "outputs": [
    {
     "data": {
      "text/plain": [
       "<matplotlib.collections.PathCollection at 0x7f21f009f790>"
      ]
     },
     "execution_count": 34,
     "metadata": {},
     "output_type": "execute_result"
    },
    {
     "data": {
      "image/png": "[encoded data removed]",
      "text/plain": [
       "<Figure size 432x288 with 2 Axes>"
      ]
     },
     "metadata": {
      "needs_background": "light"
     },
     "output_type": "display_data"
    }
   ],
   "source": [
    "df.plot.scatter(x = 'Memory (GB)', y = 'Screensize (Inch)', c=labels, s=50, cmap='viridis')\n",
    "plt.scatter(centers[:, 0], centers[:, 1], c='black', s=100, alpha=0.5)"
   ]
  },
  {
   "cell_type": "code",
   "execution_count": 35,
   "id": "dd8fe01b",
   "metadata": {
    "execution": {
     "iopub.execute_input": "2021-12-20T19:10:23.485633Z",
     "iopub.status.busy": "2021-12-20T19:10:23.484633Z",
     "iopub.status.idle": "2021-12-20T19:10:23.497638Z",
     "shell.execute_reply": "2021-12-20T19:10:23.498146Z",
     "shell.execute_reply.started": "2021-12-20T18:58:48.997897Z"
    },
    "papermill": {
     "duration": 0.060679,
     "end_time": "2021-12-20T19:10:23.498309",
     "exception": false,
     "start_time": "2021-12-20T19:10:23.437630",
     "status": "completed"
    },
    "tags": []
   },
   "outputs": [
    {
     "data": {
      "text/html": [
       "<div>\n",
       "<style scoped>\n",
       "    .dataframe tbody tr th:only-of-type {\n",
       "        vertical-align: middle;\n",
       "    }\n",
       "\n",
       "    .dataframe tbody tr th {\n",
       "        vertical-align: top;\n",
       "    }\n",
       "\n",
       "    .dataframe thead th {\n",
       "        text-align: right;\n",
       "    }\n",
       "</style>\n",
       "<table border=\"1\" class=\"dataframe\">\n",
       "  <thead>\n",
       "    <tr style=\"text-align: right;\">\n",
       "      <th></th>\n",
       "      <th>Price</th>\n",
       "      <th>Screensize (Inch)</th>\n",
       "      <th>Memory (GB)</th>\n",
       "    </tr>\n",
       "  </thead>\n",
       "  <tbody>\n",
       "    <tr>\n",
       "      <th>0</th>\n",
       "      <td>54990</td>\n",
       "      <td>15.6</td>\n",
       "      <td>8</td>\n",
       "    </tr>\n",
       "    <tr>\n",
       "      <th>1</th>\n",
       "      <td>13500</td>\n",
       "      <td>10.1</td>\n",
       "      <td>2</td>\n",
       "    </tr>\n",
       "    <tr>\n",
       "      <th>2</th>\n",
       "      <td>23990</td>\n",
       "      <td>15.6</td>\n",
       "      <td>4</td>\n",
       "    </tr>\n",
       "    <tr>\n",
       "      <th>3</th>\n",
       "      <td>61369</td>\n",
       "      <td>15.6</td>\n",
       "      <td>8</td>\n",
       "    </tr>\n",
       "    <tr>\n",
       "      <th>4</th>\n",
       "      <td>57990</td>\n",
       "      <td>15.6</td>\n",
       "      <td>8</td>\n",
       "    </tr>\n",
       "    <tr>\n",
       "      <th>...</th>\n",
       "      <td>...</td>\n",
       "      <td>...</td>\n",
       "      <td>...</td>\n",
       "    </tr>\n",
       "    <tr>\n",
       "      <th>139</th>\n",
       "      <td>52200</td>\n",
       "      <td>15.6</td>\n",
       "      <td>8</td>\n",
       "    </tr>\n",
       "    <tr>\n",
       "      <th>140</th>\n",
       "      <td>62290</td>\n",
       "      <td>14</td>\n",
       "      <td>8</td>\n",
       "    </tr>\n",
       "    <tr>\n",
       "      <th>141</th>\n",
       "      <td>41990</td>\n",
       "      <td>15.6</td>\n",
       "      <td>8</td>\n",
       "    </tr>\n",
       "    <tr>\n",
       "      <th>142</th>\n",
       "      <td>67349</td>\n",
       "      <td>15.6</td>\n",
       "      <td>8</td>\n",
       "    </tr>\n",
       "    <tr>\n",
       "      <th>143</th>\n",
       "      <td>41990</td>\n",
       "      <td>15.6</td>\n",
       "      <td>4</td>\n",
       "    </tr>\n",
       "  </tbody>\n",
       "</table>\n",
       "<p>144 rows × 3 columns</p>\n",
       "</div>"
      ],
      "text/plain": [
       "     Price Screensize (Inch) Memory (GB)\n",
       "0    54990              15.6           8\n",
       "1    13500              10.1           2\n",
       "2    23990              15.6           4\n",
       "3    61369              15.6           8\n",
       "4    57990              15.6           8\n",
       "..     ...               ...         ...\n",
       "139  52200              15.6           8\n",
       "140  62290                14           8\n",
       "141  41990              15.6           8\n",
       "142  67349              15.6           8\n",
       "143  41990              15.6           4\n",
       "\n",
       "[144 rows x 3 columns]"
      ]
     },
     "execution_count": 35,
     "metadata": {},
     "output_type": "execute_result"
    }
   ],
   "source": [
    "df=df.drop(['cluster_label'],axis=1)\n",
    "df"
   ]
  },
  {
   "cell_type": "markdown",
   "id": "3f97343a",
   "metadata": {
    "papermill": {
     "duration": 0.044463,
     "end_time": "2021-12-20T19:10:23.586051",
     "exception": false,
     "start_time": "2021-12-20T19:10:23.541588",
     "status": "completed"
    },
    "tags": []
   },
   "source": [
    "<h3>Adding a few features as categorical variables (Optional)</h3>"
   ]
  },
  {
   "cell_type": "code",
   "execution_count": 36,
   "id": "bd438c1f",
   "metadata": {
    "execution": {
     "iopub.execute_input": "2021-12-20T19:10:23.674409Z",
     "iopub.status.busy": "2021-12-20T19:10:23.673781Z",
     "iopub.status.idle": "2021-12-20T19:10:23.677509Z",
     "shell.execute_reply": "2021-12-20T19:10:23.677007Z",
     "shell.execute_reply.started": "2021-12-20T18:58:49.014819Z"
    },
    "papermill": {
     "duration": 0.048952,
     "end_time": "2021-12-20T19:10:23.677645",
     "exception": false,
     "start_time": "2021-12-20T19:10:23.628693",
     "status": "completed"
    },
    "tags": []
   },
   "outputs": [],
   "source": [
    "# df=pd.read_csv('../input/laptop-brands-dataset/laptops_dataset.csv')\n",
    "# top_5_labels = [x for x in df.Screensize.value_counts().sort_values(ascending=False).index]\n",
    "# def one_hot_encoding_top_x(df, variable, top_x_labels):\n",
    "#     # function to create the dummy variables for the most frequent labels\n",
    "#     # we can vary the number of most frequent labels that we encode\n",
    "    \n",
    "#     for label in top_x_labels:\n",
    "#         df[variable+'_'+label] = np.where(df[variable]==label, 1, 0)\n",
    "# # encode X2 into the 10 most frequent categories\n",
    "# one_hot_encoding_top_x(df, 'Screensize', top_5_labels)\n",
    "# df=df.drop(['Screensize'],axis=1)\n",
    "# df.head()"
   ]
  },
  {
   "cell_type": "code",
   "execution_count": 37,
   "id": "27846668",
   "metadata": {
    "execution": {
     "iopub.execute_input": "2021-12-20T19:10:23.773038Z",
     "iopub.status.busy": "2021-12-20T19:10:23.772225Z",
     "iopub.status.idle": "2021-12-20T19:10:23.775307Z",
     "shell.execute_reply": "2021-12-20T19:10:23.774619Z",
     "shell.execute_reply.started": "2021-12-20T18:58:49.024919Z"
    },
    "papermill": {
     "duration": 0.054508,
     "end_time": "2021-12-20T19:10:23.775453",
     "exception": false,
     "start_time": "2021-12-20T19:10:23.720945",
     "status": "completed"
    },
    "tags": []
   },
   "outputs": [],
   "source": [
    "# top_5_labels = [x for x in df['Memory (GB)'].value_counts().sort_values(ascending=False).index]\n",
    "# def one_hot_encoding_top_x(df, variable, top_x_labels):\n",
    "#     # function to create the dummy variables for the most frequent labels\n",
    "#     # we can vary the number of most frequent labels that we encode\n",
    "    \n",
    "#     for label in top_x_labels:\n",
    "#         df[variable+'_'+label] = np.where(df[variable]==label, 1, 0)\n",
    "# # encode X2 into the 10 most frequent categories\n",
    "# one_hot_encoding_top_x(df, 'Memory (GB)', top_5_labels)\n",
    "# df=df.drop(['Memory (GB)'],axis=1)\n",
    "# df.head()"
   ]
  },
  {
   "cell_type": "markdown",
   "id": "247e2934",
   "metadata": {
    "papermill": {
     "duration": 0.045216,
     "end_time": "2021-12-20T19:10:23.865893",
     "exception": false,
     "start_time": "2021-12-20T19:10:23.820677",
     "status": "completed"
    },
    "tags": []
   },
   "source": [
    "<h3>"
   ]
  }
 ],
 "metadata": {
  "kernelspec": {
   "display_name": "Python 3",
   "language": "python",
   "name": "python3"
  },
  "language_info": {
   "codemirror_mode": {
    "name": "ipython",
    "version": 3
   },
   "file_extension": ".py",
   "mimetype": "text/x-python",
   "name": "python",
   "nbconvert_exporter": "python",
   "pygments_lexer": "ipython3",
   "version": "3.7.12"
  },
  "papermill": {
   "default_parameters": {},
   "duration": 25.938749,
   "end_time": "2021-12-20T19:10:24.720749",
   "environment_variables": {},
   "exception": null,
   "input_path": "__notebook__.ipynb",
   "output_path": "__notebook__.ipynb",
   "parameters": {},
   "start_time": "2021-12-20T19:09:58.782000",
   "version": "2.3.3"
  }
 },
 "nbformat": 4,
 "nbformat_minor": 5
}
