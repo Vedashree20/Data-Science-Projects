{
 "cells": [
  {
   "cell_type": "markdown",
   "id": "8955d6b5",
   "metadata": {},
   "source": [
    "<h2>Parametric<h2>"
   ]
  },
  {
   "cell_type": "code",
   "execution_count": 1,
   "id": "319a20ba",
   "metadata": {},
   "outputs": [],
   "source": [
    "#Data Import\n",
    "import pandas as pd\n",
    "nycf = pd.read_csv(\"nyc-flights.csv\")"
   ]
  },
  {
   "cell_type": "code",
   "execution_count": 2,
   "id": "8b0e16c5",
   "metadata": {},
   "outputs": [
    {
     "data": {
      "text/html": [
       "<div>\n",
       "<style scoped>\n",
       "    .dataframe tbody tr th:only-of-type {\n",
       "        vertical-align: middle;\n",
       "    }\n",
       "\n",
       "    .dataframe tbody tr th {\n",
       "        vertical-align: top;\n",
       "    }\n",
       "\n",
       "    .dataframe thead th {\n",
       "        text-align: right;\n",
       "    }\n",
       "</style>\n",
       "<table border=\"1\" class=\"dataframe\">\n",
       "  <thead>\n",
       "    <tr style=\"text-align: right;\">\n",
       "      <th></th>\n",
       "      <th>year</th>\n",
       "      <th>month</th>\n",
       "      <th>day</th>\n",
       "      <th>dep_time</th>\n",
       "      <th>dep_delay</th>\n",
       "      <th>arr_time</th>\n",
       "      <th>arr_delay</th>\n",
       "      <th>carrier</th>\n",
       "      <th>tailnum</th>\n",
       "      <th>flight</th>\n",
       "      <th>origin</th>\n",
       "      <th>dest</th>\n",
       "      <th>air_time</th>\n",
       "      <th>distance</th>\n",
       "      <th>hour</th>\n",
       "      <th>minute</th>\n",
       "    </tr>\n",
       "  </thead>\n",
       "  <tbody>\n",
       "    <tr>\n",
       "      <th>0</th>\n",
       "      <td>2013</td>\n",
       "      <td>6</td>\n",
       "      <td>30</td>\n",
       "      <td>940</td>\n",
       "      <td>15</td>\n",
       "      <td>1216</td>\n",
       "      <td>-4</td>\n",
       "      <td>VX</td>\n",
       "      <td>N626VA</td>\n",
       "      <td>407</td>\n",
       "      <td>JFK</td>\n",
       "      <td>LAX</td>\n",
       "      <td>313</td>\n",
       "      <td>2475</td>\n",
       "      <td>9</td>\n",
       "      <td>40</td>\n",
       "    </tr>\n",
       "    <tr>\n",
       "      <th>1</th>\n",
       "      <td>2013</td>\n",
       "      <td>5</td>\n",
       "      <td>7</td>\n",
       "      <td>1657</td>\n",
       "      <td>-3</td>\n",
       "      <td>2104</td>\n",
       "      <td>10</td>\n",
       "      <td>DL</td>\n",
       "      <td>N3760C</td>\n",
       "      <td>329</td>\n",
       "      <td>JFK</td>\n",
       "      <td>SJU</td>\n",
       "      <td>216</td>\n",
       "      <td>1598</td>\n",
       "      <td>16</td>\n",
       "      <td>57</td>\n",
       "    </tr>\n",
       "    <tr>\n",
       "      <th>2</th>\n",
       "      <td>2013</td>\n",
       "      <td>12</td>\n",
       "      <td>8</td>\n",
       "      <td>859</td>\n",
       "      <td>-1</td>\n",
       "      <td>1238</td>\n",
       "      <td>11</td>\n",
       "      <td>DL</td>\n",
       "      <td>N712TW</td>\n",
       "      <td>422</td>\n",
       "      <td>JFK</td>\n",
       "      <td>LAX</td>\n",
       "      <td>376</td>\n",
       "      <td>2475</td>\n",
       "      <td>8</td>\n",
       "      <td>59</td>\n",
       "    </tr>\n",
       "    <tr>\n",
       "      <th>3</th>\n",
       "      <td>2013</td>\n",
       "      <td>5</td>\n",
       "      <td>14</td>\n",
       "      <td>1841</td>\n",
       "      <td>-4</td>\n",
       "      <td>2122</td>\n",
       "      <td>-34</td>\n",
       "      <td>DL</td>\n",
       "      <td>N914DL</td>\n",
       "      <td>2391</td>\n",
       "      <td>JFK</td>\n",
       "      <td>TPA</td>\n",
       "      <td>135</td>\n",
       "      <td>1005</td>\n",
       "      <td>18</td>\n",
       "      <td>41</td>\n",
       "    </tr>\n",
       "    <tr>\n",
       "      <th>4</th>\n",
       "      <td>2013</td>\n",
       "      <td>7</td>\n",
       "      <td>21</td>\n",
       "      <td>1102</td>\n",
       "      <td>-3</td>\n",
       "      <td>1230</td>\n",
       "      <td>-8</td>\n",
       "      <td>9E</td>\n",
       "      <td>N823AY</td>\n",
       "      <td>3652</td>\n",
       "      <td>LGA</td>\n",
       "      <td>ORF</td>\n",
       "      <td>50</td>\n",
       "      <td>296</td>\n",
       "      <td>11</td>\n",
       "      <td>2</td>\n",
       "    </tr>\n",
       "  </tbody>\n",
       "</table>\n",
       "</div>"
      ],
      "text/plain": [
       "   year  month  day  dep_time  dep_delay  arr_time  arr_delay carrier tailnum  \\\n",
       "0  2013      6   30       940         15      1216         -4      VX  N626VA   \n",
       "1  2013      5    7      1657         -3      2104         10      DL  N3760C   \n",
       "2  2013     12    8       859         -1      1238         11      DL  N712TW   \n",
       "3  2013      5   14      1841         -4      2122        -34      DL  N914DL   \n",
       "4  2013      7   21      1102         -3      1230         -8      9E  N823AY   \n",
       "\n",
       "   flight origin dest  air_time  distance  hour  minute  \n",
       "0     407    JFK  LAX       313      2475     9      40  \n",
       "1     329    JFK  SJU       216      1598    16      57  \n",
       "2     422    JFK  LAX       376      2475     8      59  \n",
       "3    2391    JFK  TPA       135      1005    18      41  \n",
       "4    3652    LGA  ORF        50       296    11       2  "
      ]
     },
     "execution_count": 2,
     "metadata": {},
     "output_type": "execute_result"
    }
   ],
   "source": [
    "nycf.head()"
   ]
  },
  {
   "cell_type": "code",
   "execution_count": 3,
   "id": "d6447b61",
   "metadata": {},
   "outputs": [
    {
     "data": {
      "image/png": "[encoded data removed]",
      "text/plain": [
       "<Figure size 1008x432 with 1 Axes>"
      ]
     },
     "metadata": {
      "needs_background": "light"
     },
     "output_type": "display_data"
    }
   ],
   "source": [
    "#Checking Histogram\n",
    "import matplotlib\n",
    "from matplotlib import pyplot \n",
    "%matplotlib inline\n",
    "pyplot.figure(figsize=(14,6))\n",
    "pyplot.hist(nycf['hour'])\n",
    "pyplot.show()"
   ]
  },
  {
   "cell_type": "code",
   "execution_count": 4,
   "id": "8c34bb0c",
   "metadata": {},
   "outputs": [
    {
     "name": "stdout",
     "output_type": "stream",
     "text": [
      "stat=0.96, p=0.000000000000000000000000000000\n",
      "Not a normal distribution\n"
     ]
    },
    {
     "name": "stderr",
     "output_type": "stream",
     "text": [
      "c:\\users\\admin\\appdata\\local\\programs\\python\\python39\\lib\\site-packages\\scipy\\stats\\morestats.py:1760: UserWarning: p-value may not be accurate for N > 5000.\n",
      "  warnings.warn(\"p-value may not be accurate for N > 5000.\")\n"
     ]
    }
   ],
   "source": [
    "#does not look normally distrubuted\n",
    "from scipy.stats import shapiro\n",
    "\n",
    "DataToTest = nycf['hour']\n",
    "\n",
    "stat, p = shapiro(DataToTest)\n",
    "\n",
    "print('stat=%.2f, p=%.30f' % (stat, p))\n",
    "\n",
    "if p > 0.05:\n",
    "    print('Normal distribution')\n",
    "else:\n",
    "    print('Not a normal distribution')"
   ]
  },
  {
   "cell_type": "code",
   "execution_count": 5,
   "id": "71d9a433",
   "metadata": {},
   "outputs": [],
   "source": [
    "#Generating normally distributed data from Python\n",
    "from numpy.random import randn\n",
    "DataToTest = randn(100)"
   ]
  },
  {
   "cell_type": "code",
   "execution_count": 6,
   "id": "40007d84",
   "metadata": {},
   "outputs": [
    {
     "name": "stdout",
     "output_type": "stream",
     "text": [
      "stat=0.99, p=0.942240536212921142578125000000\n",
      "Normal distribution\n"
     ]
    }
   ],
   "source": [
    "stat, p = shapiro(DataToTest)\n",
    "\n",
    "print('stat=%.2f, p=%.30f' % (stat, p))\n",
    "\n",
    "if p > 0.05:\n",
    "    print('Normal distribution')\n",
    "else:\n",
    "    print('Not a normal distribution')"
   ]
  },
  {
   "cell_type": "code",
   "execution_count": 7,
   "id": "661a2feb",
   "metadata": {},
   "outputs": [
    {
     "name": "stdout",
     "output_type": "stream",
     "text": [
      "stat=12021.8775397058, p=0.0000000000\n",
      "Not a Normal distribution\n"
     ]
    }
   ],
   "source": [
    "#D'Agostino's K^2 Normality Test\n",
    "from scipy.stats import normaltest\n",
    "DataToTest = nycf['hour']\n",
    "\n",
    "stat, p = normaltest(DataToTest)\n",
    "\n",
    "print('stat=%.10f, p=%.10f' % (stat, p))\n",
    "\n",
    "if p > 0.05:\n",
    "    print('Normal distribution')\n",
    "\n",
    "else:\n",
    "    print('Not a Normal distribution')"
   ]
  },
  {
   "cell_type": "code",
   "execution_count": 8,
   "id": "1f99cf6b",
   "metadata": {},
   "outputs": [
    {
     "data": {
      "image/png": "[encoded data removed]",
      "text/plain": [
       "<Figure size 432x288 with 1 Axes>"
      ]
     },
     "metadata": {
      "needs_background": "light"
     },
     "output_type": "display_data"
    }
   ],
   "source": [
    "FirstSample = nycf[1:25]['dep_delay']\n",
    "SecondSample = nycf[1:25]['arr_delay']\n",
    "\n",
    "pyplot.plot(FirstSample,SecondSample)\n",
    "pyplot.show()"
   ]
  },
  {
   "cell_type": "code",
   "execution_count": 9,
   "id": "879291a7",
   "metadata": {},
   "outputs": [
    {
     "name": "stdout",
     "output_type": "stream",
     "text": [
      "stat=0.689, p=0.000199\n",
      "Dependent samples\n"
     ]
    }
   ],
   "source": [
    "#Spearman Rank Correlation\n",
    "from scipy.stats import spearmanr\n",
    "stat, p = spearmanr(FirstSample, SecondSample)\n",
    "\n",
    "print('stat=%.3f, p=%5f' % (stat, p))\n",
    "if p > 0.05:\n",
    "    print('Independent samples')\n",
    "else:\n",
    "    print('Dependent samples')"
   ]
  },
  {
   "cell_type": "code",
   "execution_count": 10,
   "id": "5e295747",
   "metadata": {},
   "outputs": [
    {
     "name": "stdout",
     "output_type": "stream",
     "text": [
      "stat=0.913, p=0.000000\n",
      "Dependent samples\n"
     ]
    }
   ],
   "source": [
    "#pearson correlation\n",
    "from scipy.stats import pearsonr\n",
    "stat, p = pearsonr(FirstSample, SecondSample)\n",
    "\n",
    "print('stat=%.3f, p=%5f' % (stat, p))\n",
    "if p > 0.05:\n",
    "    print('Independent samples')\n",
    "else:\n",
    "    print('Dependent samples')"
   ]
  },
  {
   "cell_type": "code",
   "execution_count": 11,
   "id": "b56c301e",
   "metadata": {},
   "outputs": [
    {
     "data": {
      "text/html": [
       "<div>\n",
       "<style scoped>\n",
       "    .dataframe tbody tr th:only-of-type {\n",
       "        vertical-align: middle;\n",
       "    }\n",
       "\n",
       "    .dataframe tbody tr th {\n",
       "        vertical-align: top;\n",
       "    }\n",
       "\n",
       "    .dataframe thead th {\n",
       "        text-align: right;\n",
       "    }\n",
       "</style>\n",
       "<table border=\"1\" class=\"dataframe\">\n",
       "  <thead>\n",
       "    <tr style=\"text-align: right;\">\n",
       "      <th></th>\n",
       "      <th>year</th>\n",
       "      <th>month</th>\n",
       "      <th>day</th>\n",
       "      <th>dep_time</th>\n",
       "      <th>dep_delay</th>\n",
       "      <th>arr_time</th>\n",
       "      <th>arr_delay</th>\n",
       "      <th>flight</th>\n",
       "      <th>air_time</th>\n",
       "      <th>distance</th>\n",
       "      <th>hour</th>\n",
       "      <th>minute</th>\n",
       "    </tr>\n",
       "  </thead>\n",
       "  <tbody>\n",
       "    <tr>\n",
       "      <th>year</th>\n",
       "      <td>NaN</td>\n",
       "      <td>NaN</td>\n",
       "      <td>NaN</td>\n",
       "      <td>NaN</td>\n",
       "      <td>NaN</td>\n",
       "      <td>NaN</td>\n",
       "      <td>NaN</td>\n",
       "      <td>NaN</td>\n",
       "      <td>NaN</td>\n",
       "      <td>NaN</td>\n",
       "      <td>NaN</td>\n",
       "      <td>NaN</td>\n",
       "    </tr>\n",
       "    <tr>\n",
       "      <th>month</th>\n",
       "      <td>NaN</td>\n",
       "      <td>1.000000</td>\n",
       "      <td>-0.001355</td>\n",
       "      <td>-0.170787</td>\n",
       "      <td>-0.096595</td>\n",
       "      <td>-0.178824</td>\n",
       "      <td>-0.115772</td>\n",
       "      <td>-0.146660</td>\n",
       "      <td>0.334986</td>\n",
       "      <td>0.319547</td>\n",
       "      <td>-0.177511</td>\n",
       "      <td>0.226468</td>\n",
       "    </tr>\n",
       "    <tr>\n",
       "      <th>day</th>\n",
       "      <td>NaN</td>\n",
       "      <td>-0.001355</td>\n",
       "      <td>1.000000</td>\n",
       "      <td>-0.001601</td>\n",
       "      <td>0.146707</td>\n",
       "      <td>0.132753</td>\n",
       "      <td>0.105543</td>\n",
       "      <td>0.261232</td>\n",
       "      <td>-0.269671</td>\n",
       "      <td>-0.220860</td>\n",
       "      <td>0.006918</td>\n",
       "      <td>-0.248751</td>\n",
       "    </tr>\n",
       "    <tr>\n",
       "      <th>dep_time</th>\n",
       "      <td>NaN</td>\n",
       "      <td>-0.170787</td>\n",
       "      <td>-0.001601</td>\n",
       "      <td>1.000000</td>\n",
       "      <td>0.641430</td>\n",
       "      <td>0.573713</td>\n",
       "      <td>0.532980</td>\n",
       "      <td>-0.254978</td>\n",
       "      <td>0.100613</td>\n",
       "      <td>0.137897</td>\n",
       "      <td>0.999429</td>\n",
       "      <td>-0.158365</td>\n",
       "    </tr>\n",
       "    <tr>\n",
       "      <th>dep_delay</th>\n",
       "      <td>NaN</td>\n",
       "      <td>-0.096595</td>\n",
       "      <td>0.146707</td>\n",
       "      <td>0.641430</td>\n",
       "      <td>1.000000</td>\n",
       "      <td>0.113580</td>\n",
       "      <td>0.912888</td>\n",
       "      <td>-0.075466</td>\n",
       "      <td>-0.063398</td>\n",
       "      <td>-0.031144</td>\n",
       "      <td>0.641022</td>\n",
       "      <td>-0.100373</td>\n",
       "    </tr>\n",
       "    <tr>\n",
       "      <th>arr_time</th>\n",
       "      <td>NaN</td>\n",
       "      <td>-0.178824</td>\n",
       "      <td>0.132753</td>\n",
       "      <td>0.573713</td>\n",
       "      <td>0.113580</td>\n",
       "      <td>1.000000</td>\n",
       "      <td>-0.085921</td>\n",
       "      <td>-0.112325</td>\n",
       "      <td>0.049894</td>\n",
       "      <td>0.065583</td>\n",
       "      <td>0.564412</td>\n",
       "      <td>0.171487</td>\n",
       "    </tr>\n",
       "    <tr>\n",
       "      <th>arr_delay</th>\n",
       "      <td>NaN</td>\n",
       "      <td>-0.115772</td>\n",
       "      <td>0.105543</td>\n",
       "      <td>0.532980</td>\n",
       "      <td>0.912888</td>\n",
       "      <td>-0.085921</td>\n",
       "      <td>1.000000</td>\n",
       "      <td>-0.027536</td>\n",
       "      <td>-0.025671</td>\n",
       "      <td>-0.028722</td>\n",
       "      <td>0.534804</td>\n",
       "      <td>-0.146610</td>\n",
       "    </tr>\n",
       "    <tr>\n",
       "      <th>flight</th>\n",
       "      <td>NaN</td>\n",
       "      <td>-0.146660</td>\n",
       "      <td>0.261232</td>\n",
       "      <td>-0.254978</td>\n",
       "      <td>-0.075466</td>\n",
       "      <td>-0.112325</td>\n",
       "      <td>-0.027536</td>\n",
       "      <td>1.000000</td>\n",
       "      <td>-0.474833</td>\n",
       "      <td>-0.469756</td>\n",
       "      <td>-0.241940</td>\n",
       "      <td>-0.336519</td>\n",
       "    </tr>\n",
       "    <tr>\n",
       "      <th>air_time</th>\n",
       "      <td>NaN</td>\n",
       "      <td>0.334986</td>\n",
       "      <td>-0.269671</td>\n",
       "      <td>0.100613</td>\n",
       "      <td>-0.063398</td>\n",
       "      <td>0.049894</td>\n",
       "      <td>-0.025671</td>\n",
       "      <td>-0.474833</td>\n",
       "      <td>1.000000</td>\n",
       "      <td>0.983856</td>\n",
       "      <td>0.086102</td>\n",
       "      <td>0.406618</td>\n",
       "    </tr>\n",
       "    <tr>\n",
       "      <th>distance</th>\n",
       "      <td>NaN</td>\n",
       "      <td>0.319547</td>\n",
       "      <td>-0.220860</td>\n",
       "      <td>0.137897</td>\n",
       "      <td>-0.031144</td>\n",
       "      <td>0.065583</td>\n",
       "      <td>-0.028722</td>\n",
       "      <td>-0.469756</td>\n",
       "      <td>0.983856</td>\n",
       "      <td>1.000000</td>\n",
       "      <td>0.123674</td>\n",
       "      <td>0.391647</td>\n",
       "    </tr>\n",
       "    <tr>\n",
       "      <th>hour</th>\n",
       "      <td>NaN</td>\n",
       "      <td>-0.177511</td>\n",
       "      <td>0.006918</td>\n",
       "      <td>0.999429</td>\n",
       "      <td>0.641022</td>\n",
       "      <td>0.564412</td>\n",
       "      <td>0.534804</td>\n",
       "      <td>-0.241940</td>\n",
       "      <td>0.086102</td>\n",
       "      <td>0.123674</td>\n",
       "      <td>1.000000</td>\n",
       "      <td>-0.191623</td>\n",
       "    </tr>\n",
       "    <tr>\n",
       "      <th>minute</th>\n",
       "      <td>NaN</td>\n",
       "      <td>0.226468</td>\n",
       "      <td>-0.248751</td>\n",
       "      <td>-0.158365</td>\n",
       "      <td>-0.100373</td>\n",
       "      <td>0.171487</td>\n",
       "      <td>-0.146610</td>\n",
       "      <td>-0.336519</td>\n",
       "      <td>0.406618</td>\n",
       "      <td>0.391647</td>\n",
       "      <td>-0.191623</td>\n",
       "      <td>1.000000</td>\n",
       "    </tr>\n",
       "  </tbody>\n",
       "</table>\n",
       "</div>"
      ],
      "text/plain": [
       "           year     month       day  dep_time  dep_delay  arr_time  arr_delay  \\\n",
       "year        NaN       NaN       NaN       NaN        NaN       NaN        NaN   \n",
       "month       NaN  1.000000 -0.001355 -0.170787  -0.096595 -0.178824  -0.115772   \n",
       "day         NaN -0.001355  1.000000 -0.001601   0.146707  0.132753   0.105543   \n",
       "dep_time    NaN -0.170787 -0.001601  1.000000   0.641430  0.573713   0.532980   \n",
       "dep_delay   NaN -0.096595  0.146707  0.641430   1.000000  0.113580   0.912888   \n",
       "arr_time    NaN -0.178824  0.132753  0.573713   0.113580  1.000000  -0.085921   \n",
       "arr_delay   NaN -0.115772  0.105543  0.532980   0.912888 -0.085921   1.000000   \n",
       "flight      NaN -0.146660  0.261232 -0.254978  -0.075466 -0.112325  -0.027536   \n",
       "air_time    NaN  0.334986 -0.269671  0.100613  -0.063398  0.049894  -0.025671   \n",
       "distance    NaN  0.319547 -0.220860  0.137897  -0.031144  0.065583  -0.028722   \n",
       "hour        NaN -0.177511  0.006918  0.999429   0.641022  0.564412   0.534804   \n",
       "minute      NaN  0.226468 -0.248751 -0.158365  -0.100373  0.171487  -0.146610   \n",
       "\n",
       "             flight  air_time  distance      hour    minute  \n",
       "year            NaN       NaN       NaN       NaN       NaN  \n",
       "month     -0.146660  0.334986  0.319547 -0.177511  0.226468  \n",
       "day        0.261232 -0.269671 -0.220860  0.006918 -0.248751  \n",
       "dep_time  -0.254978  0.100613  0.137897  0.999429 -0.158365  \n",
       "dep_delay -0.075466 -0.063398 -0.031144  0.641022 -0.100373  \n",
       "arr_time  -0.112325  0.049894  0.065583  0.564412  0.171487  \n",
       "arr_delay -0.027536 -0.025671 -0.028722  0.534804 -0.146610  \n",
       "flight     1.000000 -0.474833 -0.469756 -0.241940 -0.336519  \n",
       "air_time  -0.474833  1.000000  0.983856  0.086102  0.406618  \n",
       "distance  -0.469756  0.983856  1.000000  0.123674  0.391647  \n",
       "hour      -0.241940  0.086102  0.123674  1.000000 -0.191623  \n",
       "minute    -0.336519  0.406618  0.391647 -0.191623  1.000000  "
      ]
     },
     "execution_count": 11,
     "metadata": {},
     "output_type": "execute_result"
    }
   ],
   "source": [
    "nycf[1:25].corr(method=\"pearson\")"
   ]
  },
  {
   "cell_type": "code",
   "execution_count": 12,
   "id": "d8a3b02a",
   "metadata": {},
   "outputs": [],
   "source": [
    "#Tests whether two categorical variables are related or independent.\n",
    "#Assumptions - independent observation, size in each box of contingency table > 25\n",
    "#Example of the Chi-Squared Test\n",
    "FeeData = pd.read_csv(\"fee_status.csv\")"
   ]
  },
  {
   "cell_type": "code",
   "execution_count": 13,
   "id": "2e9454d1",
   "metadata": {},
   "outputs": [
    {
     "data": {
      "text/html": [
       "<div>\n",
       "<style scoped>\n",
       "    .dataframe tbody tr th:only-of-type {\n",
       "        vertical-align: middle;\n",
       "    }\n",
       "\n",
       "    .dataframe tbody tr th {\n",
       "        vertical-align: top;\n",
       "    }\n",
       "\n",
       "    .dataframe thead th {\n",
       "        text-align: right;\n",
       "    }\n",
       "</style>\n",
       "<table border=\"1\" class=\"dataframe\">\n",
       "  <thead>\n",
       "    <tr style=\"text-align: right;\">\n",
       "      <th></th>\n",
       "      <th>Branch</th>\n",
       "      <th>Division</th>\n",
       "      <th>fee_status</th>\n",
       "      <th>Mode</th>\n",
       "    </tr>\n",
       "  </thead>\n",
       "  <tbody>\n",
       "    <tr>\n",
       "      <th>0</th>\n",
       "      <td>IT</td>\n",
       "      <td>A</td>\n",
       "      <td>Paid</td>\n",
       "      <td>Credit Card</td>\n",
       "    </tr>\n",
       "    <tr>\n",
       "      <th>1</th>\n",
       "      <td>IT</td>\n",
       "      <td>A</td>\n",
       "      <td>Not Paid</td>\n",
       "      <td>Credit Card</td>\n",
       "    </tr>\n",
       "    <tr>\n",
       "      <th>2</th>\n",
       "      <td>CSE</td>\n",
       "      <td>C</td>\n",
       "      <td>Paid</td>\n",
       "      <td>Debit Card</td>\n",
       "    </tr>\n",
       "    <tr>\n",
       "      <th>3</th>\n",
       "      <td>CSE</td>\n",
       "      <td>C</td>\n",
       "      <td>Paid</td>\n",
       "      <td>Debit Card</td>\n",
       "    </tr>\n",
       "    <tr>\n",
       "      <th>4</th>\n",
       "      <td>IT</td>\n",
       "      <td>D</td>\n",
       "      <td>Not Paid</td>\n",
       "      <td>Credit Card</td>\n",
       "    </tr>\n",
       "    <tr>\n",
       "      <th>5</th>\n",
       "      <td>CSE</td>\n",
       "      <td>D</td>\n",
       "      <td>Not Paid</td>\n",
       "      <td>Debit Card</td>\n",
       "    </tr>\n",
       "    <tr>\n",
       "      <th>6</th>\n",
       "      <td>IT</td>\n",
       "      <td>F</td>\n",
       "      <td>Paid</td>\n",
       "      <td>Credit Card</td>\n",
       "    </tr>\n",
       "    <tr>\n",
       "      <th>7</th>\n",
       "      <td>CSE</td>\n",
       "      <td>F</td>\n",
       "      <td>Paid</td>\n",
       "      <td>Debit Card</td>\n",
       "    </tr>\n",
       "    <tr>\n",
       "      <th>8</th>\n",
       "      <td>IT</td>\n",
       "      <td>E</td>\n",
       "      <td>Not Paid</td>\n",
       "      <td>Debit Card</td>\n",
       "    </tr>\n",
       "    <tr>\n",
       "      <th>9</th>\n",
       "      <td>CSE</td>\n",
       "      <td>E</td>\n",
       "      <td>Not Paid</td>\n",
       "      <td>Credit Card</td>\n",
       "    </tr>\n",
       "  </tbody>\n",
       "</table>\n",
       "</div>"
      ],
      "text/plain": [
       "  Branch Division fee_status         Mode\n",
       "0     IT        A       Paid  Credit Card\n",
       "1     IT        A   Not Paid  Credit Card\n",
       "2    CSE        C       Paid   Debit Card\n",
       "3    CSE        C       Paid   Debit Card\n",
       "4     IT        D   Not Paid  Credit Card\n",
       "5    CSE        D   Not Paid   Debit Card\n",
       "6     IT        F       Paid  Credit Card\n",
       "7    CSE        F       Paid   Debit Card\n",
       "8     IT        E   Not Paid   Debit Card\n",
       "9    CSE        E   Not Paid  Credit Card"
      ]
     },
     "execution_count": 13,
     "metadata": {},
     "output_type": "execute_result"
    }
   ],
   "source": [
    "FeeData.head(10)"
   ]
  },
  {
   "cell_type": "code",
   "execution_count": 14,
   "id": "305fa7a0",
   "metadata": {},
   "outputs": [],
   "source": [
    "contingency_data = pd.crosstab(FeeData['Mode'], FeeData['fee_status'],margins = False)"
   ]
  },
  {
   "cell_type": "code",
   "execution_count": 15,
   "id": "31e69d37",
   "metadata": {},
   "outputs": [
    {
     "data": {
      "text/html": [
       "<div>\n",
       "<style scoped>\n",
       "    .dataframe tbody tr th:only-of-type {\n",
       "        vertical-align: middle;\n",
       "    }\n",
       "\n",
       "    .dataframe tbody tr th {\n",
       "        vertical-align: top;\n",
       "    }\n",
       "\n",
       "    .dataframe thead th {\n",
       "        text-align: right;\n",
       "    }\n",
       "</style>\n",
       "<table border=\"1\" class=\"dataframe\">\n",
       "  <thead>\n",
       "    <tr style=\"text-align: right;\">\n",
       "      <th>fee_status</th>\n",
       "      <th>Not Paid</th>\n",
       "      <th>Paid</th>\n",
       "    </tr>\n",
       "    <tr>\n",
       "      <th>Mode</th>\n",
       "      <th></th>\n",
       "      <th></th>\n",
       "    </tr>\n",
       "  </thead>\n",
       "  <tbody>\n",
       "    <tr>\n",
       "      <th>Credit Card</th>\n",
       "      <td>3</td>\n",
       "      <td>3</td>\n",
       "    </tr>\n",
       "    <tr>\n",
       "      <th>Debit Card</th>\n",
       "      <td>3</td>\n",
       "      <td>4</td>\n",
       "    </tr>\n",
       "  </tbody>\n",
       "</table>\n",
       "</div>"
      ],
      "text/plain": [
       "fee_status   Not Paid  Paid\n",
       "Mode                       \n",
       "Credit Card         3     3\n",
       "Debit Card          3     4"
      ]
     },
     "execution_count": 15,
     "metadata": {},
     "output_type": "execute_result"
    }
   ],
   "source": [
    "contingency_data"
   ]
  },
  {
   "cell_type": "code",
   "execution_count": 16,
   "id": "530a5b33",
   "metadata": {},
   "outputs": [
    {
     "name": "stdout",
     "output_type": "stream",
     "text": [
      "stat=0.000, p=1.000\n",
      "Independent categories\n"
     ]
    }
   ],
   "source": [
    "from scipy.stats import chi2_contingency\n",
    "stat, p, dof, expected = chi2_contingency(contingency_data)\n",
    "print('stat=%.3f, p=%.3f' % (stat, p))\n",
    "if p > 0.05:\n",
    "    print('Independent categories')\n",
    "else:\n",
    "    print('Dependent categories')"
   ]
  },
  {
   "cell_type": "code",
   "execution_count": 17,
   "id": "a41c7d67",
   "metadata": {},
   "outputs": [],
   "source": [
    "contingency_data = [[120,6],[200,40]]"
   ]
  },
  {
   "cell_type": "code",
   "execution_count": 18,
   "id": "49bac0d9",
   "metadata": {},
   "outputs": [
    {
     "name": "stdout",
     "output_type": "stream",
     "text": [
      "stat=9.600, p=0.002\n",
      "Dependent categories\n"
     ]
    }
   ],
   "source": [
    "stat, p, dof, expected = chi2_contingency(contingency_data)\n",
    "print('stat=%.3f, p=%.3f' % (stat, p))\n",
    "if p > 0.05:\n",
    "    print('Independent categories')\n",
    "else:\n",
    "    print('Dependent categories')"
   ]
  },
  {
   "cell_type": "code",
   "execution_count": 19,
   "id": "8559b583",
   "metadata": {},
   "outputs": [],
   "source": [
    "#T-test\n",
    "my_score = [23,21,31,20,19,35,26,22,21,19]\n",
    "abc_score = [46,42,62,40,38,70,52,44,42,38]"
   ]
  },
  {
   "cell_type": "code",
   "execution_count": 20,
   "id": "8345378d",
   "metadata": {},
   "outputs": [
    {
     "name": "stdout",
     "output_type": "stream",
     "text": [
      "Vedashree mean score: 23.7\n",
      "ABC mean score: 47.4\n"
     ]
    }
   ],
   "source": [
    "#Lets check mean of our scores\n",
    "import numpy as np\n",
    "print('Vedashree mean score:', np.mean(my_score))\n",
    "print('ABC mean score:', np.mean(abc_score))"
   ]
  },
  {
   "cell_type": "code",
   "execution_count": 21,
   "id": "0b5fa920",
   "metadata": {},
   "outputs": [
    {
     "data": {
      "text/plain": [
       "Ttest_1sampResult(statistic=2.1681507160852993, pvalue=0.058288767709368715)"
      ]
     },
     "execution_count": 21,
     "metadata": {},
     "output_type": "execute_result"
    }
   ],
   "source": [
    "#One Sample T-test\n",
    "import scipy\n",
    "scipy.stats.ttest_1samp(my_score,20)"
   ]
  },
  {
   "cell_type": "code",
   "execution_count": 22,
   "id": "6a70f293",
   "metadata": {},
   "outputs": [
    {
     "data": {
      "text/plain": [
       "Ttest_indResult(statistic=-6.210850679090182, pvalue=7.3390410384768156e-06)"
      ]
     },
     "execution_count": 22,
     "metadata": {},
     "output_type": "execute_result"
    }
   ],
   "source": [
    "#Independent Sample T-test\n",
    "scipy.stats.ttest_ind(my_score,abc_score)"
   ]
  },
  {
   "cell_type": "code",
   "execution_count": 23,
   "id": "882cdace",
   "metadata": {},
   "outputs": [],
   "source": [
    "my_score_second_Tour = [46,42,62,40,38,70,52,44,42,38]"
   ]
  },
  {
   "cell_type": "code",
   "execution_count": 24,
   "id": "98519da1",
   "metadata": {},
   "outputs": [
    {
     "data": {
      "text/plain": [
       "Ttest_relResult(statistic=-13.88788431654638, pvalue=2.1983272300073563e-07)"
      ]
     },
     "execution_count": 24,
     "metadata": {},
     "output_type": "execute_result"
    }
   ],
   "source": [
    "#Paired sample T-Test\n",
    "scipy.stats.ttest_rel(my_score,my_score_second_Tour)"
   ]
  },
  {
   "cell_type": "code",
   "execution_count": 25,
   "id": "6c1e2967",
   "metadata": {},
   "outputs": [],
   "source": [
    "#Anova test\n",
    "#Assumption -Normal distributon, same variance, identical distribution\n",
    "average_score = [40,44,60,50,48,68,55,46,44,54]"
   ]
  },
  {
   "cell_type": "code",
   "execution_count": 26,
   "id": "d05792d5",
   "metadata": {},
   "outputs": [
    {
     "name": "stdout",
     "output_type": "stream",
     "text": [
      "stat=9.600, p=0.000\n",
      "Different distributions of scores\n"
     ]
    }
   ],
   "source": [
    "tstat, p = scipy.stats.f_oneway(my_score, average_score, abc_score)\n",
    "print('stat=%.3f, p=%.3f' % (stat, p))\n",
    "if p > 0.05:\n",
    "    print('Same distribution of scores')\n",
    "else:\n",
    "    print('Different distributions of scores')"
   ]
  },
  {
   "cell_type": "code",
   "execution_count": 27,
   "id": "de021347",
   "metadata": {},
   "outputs": [],
   "source": [
    "class_A_score = [91,90,81,80,76]\n",
    "class_B_score = [88,86,85,84,83]"
   ]
  },
  {
   "cell_type": "markdown",
   "id": "56d23221",
   "metadata": {},
   "source": [
    "<h2>Non-parametric<h2>"
   ]
  },
  {
   "cell_type": "code",
   "execution_count": 28,
   "id": "a6b6b30f",
   "metadata": {},
   "outputs": [
    {
     "name": "stdout",
     "output_type": "stream",
     "text": [
      "stat=9.600, p=0.690\n",
      "Same distribution\n"
     ]
    }
   ],
   "source": [
    "tstat, p = scipy.stats.mannwhitneyu(class_A_score, class_B_score)#does not assume normal distribution\n",
    "print('stat=%.3f, p=%.3f' % (stat, p))\n",
    "if p > 0.05:\n",
    "    print('Same distribution')\n",
    "else:\n",
    "    print('Different distributions')"
   ]
  },
  {
   "cell_type": "code",
   "execution_count": 29,
   "id": "7fda42bb",
   "metadata": {},
   "outputs": [],
   "source": [
    "#Augmented Dickey-Fuller Test -  null hypothesis - Series is non stationary\n",
    "#Definition of stationary time series - constant mean and variance over regular intervals sets\n",
    "from statsmodels.tsa.stattools import adfuller\n",
    "stock_price_data = [121,131,142,121,131,153,121,131,167]\n",
    "stat, p, lags, obs, crit, t = adfuller(stock_price_data)"
   ]
  },
  {
   "cell_type": "code",
   "execution_count": 30,
   "id": "572dbdf7",
   "metadata": {},
   "outputs": [
    {
     "name": "stdout",
     "output_type": "stream",
     "text": [
      "stat=-5750836411491.121, p=0.000\n",
      "Series is stationary\n"
     ]
    }
   ],
   "source": [
    "print('stat=%.3f, p=%.3f' % (stat, p))\n",
    "if p > 0.05:\n",
    "    print('Series is not stationary')\n",
    "else:\n",
    "    print('Series is stationary')"
   ]
  },
  {
   "cell_type": "code",
   "execution_count": 31,
   "id": "7c2da4a9",
   "metadata": {},
   "outputs": [],
   "source": [
    "stock_price_data = [121,131,142,121,131,153,121,131,167]\n",
    "stat, p, lags, obs, crit, t = adfuller(stock_price_data)"
   ]
  },
  {
   "cell_type": "code",
   "execution_count": 32,
   "id": "f0231794",
   "metadata": {},
   "outputs": [
    {
     "name": "stdout",
     "output_type": "stream",
     "text": [
      "stat=0.922, p=0.993\n",
      "Series is not stationary\n"
     ]
    }
   ],
   "source": [
    "print('stat=%.3f, p=%.3f' % (stat, p))\n",
    "if p > 0.05:\n",
    "    print('Series is not stationary')\n",
    "else:\n",
    "    print('Series is stationary')"
   ]
  }
 ],
 "metadata": {
  "kernelspec": {
   "display_name": "Python 3 (ipykernel)",
   "language": "python",
   "name": "python3"
  },
  "language_info": {
   "codemirror_mode": {
    "name": "ipython",
    "version": 3
   },
   "file_extension": ".py",
   "mimetype": "text/x-python",
   "name": "python",
   "nbconvert_exporter": "python",
   "pygments_lexer": "ipython3",
   "version": "3.9.0"
  }
 },
 "nbformat": 4,
 "nbformat_minor": 5
}
